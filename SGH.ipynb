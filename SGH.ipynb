{
 "cells": [
  {
   "cell_type": "markdown",
   "metadata": {},
   "source": [
    "# Zajecia 1"
   ]
  },
  {
   "cell_type": "code",
   "execution_count": 2,
   "metadata": {},
   "outputs": [],
   "source": [
    "num1 = 10\n",
    "num2 = 9.99\n",
    "num3 = num1 + num2"
   ]
  },
  {
   "cell_type": "code",
   "execution_count": 4,
   "metadata": {},
   "outputs": [
    {
     "data": {
      "text/plain": [
       "19.990000000000002"
      ]
     },
     "execution_count": 4,
     "metadata": {},
     "output_type": "execute_result"
    }
   ],
   "source": [
    "num3"
   ]
  },
  {
   "cell_type": "markdown",
   "metadata": {},
   "source": [
    "Przy zmianie foat na int, tracimy precyzje, zawsze odcinamy w dol, a nie zaokraglamy."
   ]
  },
  {
   "cell_type": "code",
   "execution_count": 5,
   "metadata": {},
   "outputs": [
    {
     "data": {
      "text/plain": [
       "5"
      ]
     },
     "execution_count": 5,
     "metadata": {},
     "output_type": "execute_result"
    }
   ],
   "source": [
    "int(5.1)"
   ]
  },
  {
   "cell_type": "code",
   "execution_count": 6,
   "metadata": {},
   "outputs": [
    {
     "data": {
      "text/plain": [
       "5"
      ]
     },
     "execution_count": 6,
     "metadata": {},
     "output_type": "execute_result"
    }
   ],
   "source": [
    "int(5.9)"
   ]
  },
  {
   "cell_type": "code",
   "execution_count": 7,
   "metadata": {},
   "outputs": [
    {
     "data": {
      "text/plain": [
       "5"
      ]
     },
     "execution_count": 7,
     "metadata": {},
     "output_type": "execute_result"
    }
   ],
   "source": [
    "16 // 3"
   ]
  },
  {
   "cell_type": "code",
   "execution_count": 9,
   "metadata": {},
   "outputs": [
    {
     "data": {
      "text/plain": [
       "'999999999'"
      ]
     },
     "execution_count": 9,
     "metadata": {},
     "output_type": "execute_result"
    }
   ],
   "source": [
    "str(9)*9"
   ]
  },
  {
   "cell_type": "markdown",
   "metadata": {},
   "source": [
    "Sprawdz ile to jest:"
   ]
  },
  {
   "cell_type": "code",
   "execution_count": 10,
   "metadata": {},
   "outputs": [
    {
     "data": {
      "text/plain": [
       "12"
      ]
     },
     "execution_count": 10,
     "metadata": {},
     "output_type": "execute_result"
    }
   ],
   "source": [
    "5+7"
   ]
  },
  {
   "cell_type": "code",
   "execution_count": 11,
   "metadata": {},
   "outputs": [
    {
     "data": {
      "text/plain": [
       "18"
      ]
     },
     "execution_count": 11,
     "metadata": {},
     "output_type": "execute_result"
    }
   ],
   "source": [
    "9*2"
   ]
  },
  {
   "cell_type": "code",
   "execution_count": 12,
   "metadata": {},
   "outputs": [
    {
     "data": {
      "text/plain": [
       "1"
      ]
     },
     "execution_count": 12,
     "metadata": {},
     "output_type": "execute_result"
    }
   ],
   "source": [
    "7%2"
   ]
  },
  {
   "cell_type": "code",
   "execution_count": 13,
   "metadata": {},
   "outputs": [
    {
     "data": {
      "text/plain": [
       "1"
      ]
     },
     "execution_count": 13,
     "metadata": {},
     "output_type": "execute_result"
    }
   ],
   "source": [
    "-7%2"
   ]
  },
  {
   "cell_type": "code",
   "execution_count": 14,
   "metadata": {},
   "outputs": [
    {
     "data": {
      "text/plain": [
       "2.8"
      ]
     },
     "execution_count": 14,
     "metadata": {},
     "output_type": "execute_result"
    }
   ],
   "source": [
    "14/5"
   ]
  },
  {
   "cell_type": "code",
   "execution_count": 15,
   "metadata": {},
   "outputs": [
    {
     "data": {
      "text/plain": [
       "0.4"
      ]
     },
     "execution_count": 15,
     "metadata": {},
     "output_type": "execute_result"
    }
   ],
   "source": [
    "2/5"
   ]
  },
  {
   "cell_type": "code",
   "execution_count": 16,
   "metadata": {},
   "outputs": [
    {
     "data": {
      "text/plain": [
       "-18"
      ]
     },
     "execution_count": 16,
     "metadata": {},
     "output_type": "execute_result"
    }
   ],
   "source": [
    "12-30"
   ]
  },
  {
   "cell_type": "code",
   "execution_count": 18,
   "metadata": {},
   "outputs": [
    {
     "data": {
      "text/plain": [
       "0.5"
      ]
     },
     "execution_count": 18,
     "metadata": {},
     "output_type": "execute_result"
    }
   ],
   "source": [
    "1.5-1"
   ]
  },
  {
   "cell_type": "markdown",
   "metadata": {},
   "source": [
    "Stwórz zmienna o nazwie liczba przypisz jej wartosc 7"
   ]
  },
  {
   "cell_type": "code",
   "execution_count": 22,
   "metadata": {},
   "outputs": [],
   "source": [
    "liczba1 = 7"
   ]
  },
  {
   "cell_type": "code",
   "execution_count": 21,
   "metadata": {},
   "outputs": [],
   "source": [
    "liczba2 = 3"
   ]
  },
  {
   "cell_type": "code",
   "execution_count": 24,
   "metadata": {},
   "outputs": [
    {
     "data": {
      "text/plain": [
       "49"
      ]
     },
     "execution_count": 24,
     "metadata": {},
     "output_type": "execute_result"
    }
   ],
   "source": [
    "liczba3 = liczba1**2\n",
    "liczba3"
   ]
  },
  {
   "cell_type": "code",
   "execution_count": 25,
   "metadata": {},
   "outputs": [
    {
     "data": {
      "text/plain": [
       "False"
      ]
     },
     "execution_count": 25,
     "metadata": {},
     "output_type": "execute_result"
    }
   ],
   "source": [
    "liczba3 == liczba1"
   ]
  },
  {
   "cell_type": "code",
   "execution_count": 26,
   "metadata": {},
   "outputs": [
    {
     "data": {
      "text/plain": [
       "True"
      ]
     },
     "execution_count": 26,
     "metadata": {},
     "output_type": "execute_result"
    }
   ],
   "source": [
    "liczba3 != liczba1"
   ]
  },
  {
   "cell_type": "code",
   "execution_count": 27,
   "metadata": {},
   "outputs": [
    {
     "data": {
      "text/plain": [
       "123.0"
      ]
     },
     "execution_count": 27,
     "metadata": {},
     "output_type": "execute_result"
    }
   ],
   "source": [
    "float(123)"
   ]
  },
  {
   "cell_type": "code",
   "execution_count": 28,
   "metadata": {},
   "outputs": [
    {
     "data": {
      "text/plain": [
       "123"
      ]
     },
     "execution_count": 28,
     "metadata": {},
     "output_type": "execute_result"
    }
   ],
   "source": [
    "int(123.0)"
   ]
  },
  {
   "cell_type": "code",
   "execution_count": 31,
   "metadata": {},
   "outputs": [
    {
     "name": "stdout",
     "output_type": "stream",
     "text": [
      "Wynik dodawania liczba1 i liczba2 wynosi: 10\n"
     ]
    }
   ],
   "source": [
    "print(f\"Wynik dodawania liczba1 i liczba2 wynosi: {liczba1+liczba2}\")"
   ]
  },
  {
   "cell_type": "code",
   "execution_count": 32,
   "metadata": {},
   "outputs": [],
   "source": [
    "liczba1 = 4"
   ]
  },
  {
   "cell_type": "code",
   "execution_count": 34,
   "metadata": {},
   "outputs": [
    {
     "name": "stdout",
     "output_type": "stream",
     "text": [
      "Wynik dodawania liczba1 i liczba2 wynosi: 7\n"
     ]
    }
   ],
   "source": [
    "print(f\"Wynik dodawania liczba1 i liczba2 wynosi: {liczba1+liczba2}\")"
   ]
  },
  {
   "cell_type": "code",
   "execution_count": 36,
   "metadata": {},
   "outputs": [
    {
     "data": {
      "text/plain": [
       "'Wynik dodawnia liczba1 + liczba2: 7'"
      ]
     },
     "execution_count": 36,
     "metadata": {},
     "output_type": "execute_result"
    }
   ],
   "source": [
    "\"Wynik dodawnia liczba1 + liczba2: \" + str(liczba1+liczba2)"
   ]
  },
  {
   "cell_type": "code",
   "execution_count": 39,
   "metadata": {},
   "outputs": [],
   "source": [
    "simple_string = \"witam!\""
   ]
  },
  {
   "cell_type": "code",
   "execution_count": 40,
   "metadata": {},
   "outputs": [
    {
     "data": {
      "text/plain": [
       "'witam!'"
      ]
     },
     "execution_count": 40,
     "metadata": {},
     "output_type": "execute_result"
    }
   ],
   "source": [
    "simple_string"
   ]
  },
  {
   "cell_type": "code",
   "execution_count": 42,
   "metadata": {},
   "outputs": [],
   "source": [
    "escaped = \"can't\""
   ]
  },
  {
   "cell_type": "code",
   "execution_count": 43,
   "metadata": {},
   "outputs": [
    {
     "data": {
      "text/plain": [
       "\"can't\""
      ]
     },
     "execution_count": 43,
     "metadata": {},
     "output_type": "execute_result"
    }
   ],
   "source": [
    "escaped"
   ]
  },
  {
   "cell_type": "code",
   "execution_count": 44,
   "metadata": {},
   "outputs": [],
   "source": [
    "escaped = 'can\\'t'"
   ]
  },
  {
   "cell_type": "code",
   "execution_count": 45,
   "metadata": {},
   "outputs": [
    {
     "data": {
      "text/plain": [
       "\"can't\""
      ]
     },
     "execution_count": 45,
     "metadata": {},
     "output_type": "execute_result"
    }
   ],
   "source": [
    "escaped"
   ]
  },
  {
   "cell_type": "code",
   "execution_count": 48,
   "metadata": {},
   "outputs": [
    {
     "data": {
      "text/plain": [
       "'happy birthday'"
      ]
     },
     "execution_count": 48,
     "metadata": {},
     "output_type": "execute_result"
    }
   ],
   "source": [
    "a = \"happy\" + \" \" + \"birthday\"\n",
    "a"
   ]
  },
  {
   "cell_type": "markdown",
   "metadata": {},
   "source": [
    "## Funkcje lanucha znakow"
   ]
  },
  {
   "cell_type": "code",
   "execution_count": 49,
   "metadata": {},
   "outputs": [
    {
     "data": {
      "text/plain": [
       "14"
      ]
     },
     "execution_count": 49,
     "metadata": {},
     "output_type": "execute_result"
    }
   ],
   "source": [
    "len(a)"
   ]
  },
  {
   "cell_type": "code",
   "execution_count": 51,
   "metadata": {},
   "outputs": [
    {
     "data": {
      "text/plain": [
       "'h'"
      ]
     },
     "execution_count": 51,
     "metadata": {},
     "output_type": "execute_result"
    }
   ],
   "source": [
    "a[0]"
   ]
  },
  {
   "cell_type": "code",
   "execution_count": 53,
   "metadata": {},
   "outputs": [
    {
     "ename": "IndexError",
     "evalue": "string index out of range",
     "output_type": "error",
     "traceback": [
      "\u001b[0;31m---------------------------------------------------------------------------\u001b[0m",
      "\u001b[0;31mIndexError\u001b[0m                                Traceback (most recent call last)",
      "\u001b[0;32m<ipython-input-53-cac808300c5b>\u001b[0m in \u001b[0;36m<module>\u001b[0;34m\u001b[0m\n\u001b[0;32m----> 1\u001b[0;31m \u001b[0ma\u001b[0m\u001b[0;34m[\u001b[0m\u001b[0;36m55\u001b[0m\u001b[0;34m]\u001b[0m\u001b[0;34m\u001b[0m\u001b[0;34m\u001b[0m\u001b[0m\n\u001b[0m",
      "\u001b[0;31mIndexError\u001b[0m: string index out of range"
     ]
    }
   ],
   "source": [
    "a[55]"
   ]
  },
  {
   "cell_type": "code",
   "execution_count": 56,
   "metadata": {},
   "outputs": [],
   "source": [
    "male = 'abc'"
   ]
  },
  {
   "cell_type": "code",
   "execution_count": 57,
   "metadata": {},
   "outputs": [
    {
     "data": {
      "text/plain": [
       "'ABC'"
      ]
     },
     "execution_count": 57,
     "metadata": {},
     "output_type": "execute_result"
    }
   ],
   "source": [
    "male.upper()"
   ]
  },
  {
   "cell_type": "code",
   "execution_count": 59,
   "metadata": {},
   "outputs": [
    {
     "data": {
      "text/plain": [
       "'abc'"
      ]
     },
     "execution_count": 59,
     "metadata": {},
     "output_type": "execute_result"
    }
   ],
   "source": [
    "male.lower()"
   ]
  },
  {
   "cell_type": "code",
   "execution_count": 60,
   "metadata": {},
   "outputs": [
    {
     "data": {
      "text/plain": [
       "'Abc'"
      ]
     },
     "execution_count": 60,
     "metadata": {},
     "output_type": "execute_result"
    }
   ],
   "source": [
    "male.title()"
   ]
  },
  {
   "cell_type": "code",
   "execution_count": 63,
   "metadata": {},
   "outputs": [
    {
     "data": {
      "text/plain": [
       "'niepotrzebna znaki'"
      ]
     },
     "execution_count": 63,
     "metadata": {},
     "output_type": "execute_result"
    }
   ],
   "source": [
    "tekst = '      niepotrzebna znaki    '\n",
    "tekst.strip()"
   ]
  },
  {
   "cell_type": "code",
   "execution_count": 65,
   "metadata": {},
   "outputs": [],
   "source": [
    "imie = 'aleksander'\n",
    "nazwisko = 'kurz'"
   ]
  },
  {
   "cell_type": "code",
   "execution_count": 66,
   "metadata": {},
   "outputs": [
    {
     "name": "stdout",
     "output_type": "stream",
     "text": [
      "Aleksander Kurz\n"
     ]
    }
   ],
   "source": [
    "print(f\"{imie.title()} {nazwisko.title()}\")"
   ]
  },
  {
   "cell_type": "code",
   "execution_count": 78,
   "metadata": {},
   "outputs": [
    {
     "data": {
      "text/plain": [
       "'rednaskela'"
      ]
     },
     "execution_count": 78,
     "metadata": {},
     "output_type": "execute_result"
    }
   ],
   "source": [
    "imie[::-1]"
   ]
  },
  {
   "cell_type": "code",
   "execution_count": 73,
   "metadata": {},
   "outputs": [
    {
     "data": {
      "text/plain": [
       "'Naj'"
      ]
     },
     "execution_count": 73,
     "metadata": {},
     "output_type": "execute_result"
    }
   ],
   "source": [
    "napis = \"naJ\"\n",
    "napis.capitalize()"
   ]
  },
  {
   "cell_type": "code",
   "execution_count": 76,
   "metadata": {},
   "outputs": [
    {
     "data": {
      "text/plain": [
       "'Konin'"
      ]
     },
     "execution_count": 76,
     "metadata": {},
     "output_type": "execute_result"
    }
   ],
   "source": [
    "miasto = \"Konin\"\n",
    "miasto"
   ]
  },
  {
   "cell_type": "code",
   "execution_count": 80,
   "metadata": {},
   "outputs": [
    {
     "data": {
      "text/plain": [
       "'KONIN'"
      ]
     },
     "execution_count": 80,
     "metadata": {},
     "output_type": "execute_result"
    }
   ],
   "source": [
    "miasto.upper()"
   ]
  },
  {
   "cell_type": "code",
   "execution_count": 85,
   "metadata": {},
   "outputs": [
    {
     "data": {
      "text/plain": [
       "'rednaskela'"
      ]
     },
     "execution_count": 85,
     "metadata": {},
     "output_type": "execute_result"
    }
   ],
   "source": [
    "imie[::-1]"
   ]
  },
  {
   "cell_type": "code",
   "execution_count": 89,
   "metadata": {},
   "outputs": [
    {
     "name": "stdout",
     "output_type": "stream",
     "text": [
      "Aleksander kurz\n"
     ]
    }
   ],
   "source": [
    "print(f\"{imie.title()} {nazwisko.lower()}\")"
   ]
  },
  {
   "cell_type": "code",
   "execution_count": 90,
   "metadata": {},
   "outputs": [
    {
     "name": "stdout",
     "output_type": "stream",
     "text": [
      "Aleksander KURZ\n"
     ]
    }
   ],
   "source": [
    "print(f\"{imie.title()} {nazwisko.upper()}\")"
   ]
  },
  {
   "cell_type": "code",
   "execution_count": 91,
   "metadata": {},
   "outputs": [
    {
     "data": {
      "text/plain": [
       "47"
      ]
     },
     "execution_count": 91,
     "metadata": {},
     "output_type": "execute_result"
    }
   ],
   "source": [
    "len(\"Chrząszcz brzmi w trzcinie w Szczebrzeszynie!!!\")"
   ]
  },
  {
   "cell_type": "markdown",
   "metadata": {},
   "source": [
    "# Praca domowa\n",
    "https://www.learnpython.org/pl/ "
   ]
  },
  {
   "cell_type": "code",
   "execution_count": 1,
   "metadata": {},
   "outputs": [],
   "source": [
    "napis = 'witaj'\n",
    "rzeczywista = 10.0\n",
    "calkowita = 20"
   ]
  },
  {
   "cell_type": "code",
   "execution_count": 12,
   "metadata": {},
   "outputs": [
    {
     "name": "stdout",
     "output_type": "stream",
     "text": [
      "1\n",
      "3\n",
      "5\n",
      "7\n",
      "9\n"
     ]
    }
   ],
   "source": [
    "for x in range(10):\n",
    "    if x % 2 == 0:\n",
    "        continue\n",
    "    print(x)"
   ]
  },
  {
   "cell_type": "code",
   "execution_count": 15,
   "metadata": {},
   "outputs": [
    {
     "data": {
      "text/plain": [
       "[1, 3, 5, 7, 9]"
      ]
     },
     "execution_count": 15,
     "metadata": {},
     "output_type": "execute_result"
    }
   ],
   "source": [
    "odd = [x for x in range(10) if x % 2 != 0]\n",
    "odd"
   ]
  },
  {
   "cell_type": "code",
   "execution_count": null,
   "metadata": {},
   "outputs": [],
   "source": [
    "liczby = [\n",
    "    951, 402, 984, 651, 360, 69, 408, 319, 601, 485, 980, 507, 725, 547, 544,\n",
    "    615, 83, 165, 141, 501, 263, 617, 865, 575, 219, 390, 984, 592, 236, 105, 942, 941,\n",
    "    386, 462, 47, 418, 907, 344, 236, 375, 823, 566, 597, 978, 328, 615, 953, 345,\n",
    "    399, 162, 758, 219, 918, 237, 412, 566, 826, 248, 866, 950, 626, 949, 687, 217,\n",
    "    815, 67, 104, 58, 512, 24, 892, 894, 767, 553, 81, 379, 843, 831, 445, 742, 717,\n",
    "    958, 609, 842, 451, 688, 753, 854, 685, 93, 857, 440, 380, 126, 721, 328, 753, 470,\n",
    "    743, 527\n",
    "]m\n",
    "#\n",
    "for x in liczby:\n",
    "    if x != 237:\n",
    "        if x % 2 == 0:\n",
    "            print(x)\n",
    "    else:\n",
    "        break"
   ]
  },
  {
   "cell_type": "markdown",
   "metadata": {},
   "source": [
    "\n",
    "## Homework 1\n",
    "Please write a program that lists the N first prime numbers (you can ask the user for N or provide assign it some value at the beginning of your code)."
   ]
  },
  {
   "cell_type": "markdown",
   "metadata": {},
   "source": [
    "\n",
    "## Homework 2\n",
    "Please write a program that opens a text file containing some text (for example a newspaper article - only text). The program should list all the words used in this text and count how many times every one of those words appears in this text file.\n",
    "Hints:\n",
    "1. Use a dictionary\n",
    "2. Remove all special symbols (.,:;$) before adding to the dictionary.\n",
    "3. Make everything lower case before adding to the dictionary."
   ]
  },
  {
   "cell_type": "code",
   "execution_count": 11,
   "metadata": {},
   "outputs": [
    {
     "name": "stdout",
     "output_type": "stream",
     "text": [
      "Enter the range of prmime numbers: 23\n",
      "Prime numbers between 1 and 23 are:\n",
      "[2, 3, 5, 7, 11, 13, 17, 19, 23]\n"
     ]
    }
   ],
   "source": [
    "n = int(input(\"Enter the range of prmime numbers: \"))\n",
    "prime_list = []\n",
    "print(f\"Prime numbers between 1 and {n} are:\")\n",
    "for num in range(1, n + 1):\n",
    "    if num > 1:\n",
    "        for i in range(2, num):\n",
    "            if (num % i) == 0:\n",
    "                break\n",
    "        else:\n",
    "            prime_list.append(num) \n",
    "print(prime_list)"
   ]
  },
  {
   "cell_type": "markdown",
   "metadata": {},
   "source": [
    "## Zajecia 2\n",
    "\n",
    "### Pliki i kontakt\n",
    "\n",
    "http://iiigc2.sgh.waw.pl/prubach/index.php/files/?login=failed&wp-error=%3Cstrong%3EERROR%3C%2Fstrong%3E%3A+Invalid+username.+%3Ca+href%3D%22http%3A%2F%2Fiiigc2.sgh.waw.pl%2Fprubach%2Findex.php%2Flogin%2F%3Faction%3Dlostpassword%22%3ELost+your+password%3F%3C%2Fa%3E&pr-user-login=python\n",
    "\n",
    "login: python\n",
    "\n",
    "password: monty\n",
    "\n",
    "pawel.rubach@sgh.waw.pl\n",
    "\n",
    "Śr. 10:30 - 11:30 215G\n",
    "\n",
    "Pisząc w assemblerze piszemy na danych procesor. Kod napisany na lapku jest inny na PC. \n",
    "\n",
    "2 podstawowe architektury 32bitowa np. x86 etc.  ARM - architektury podstawowa. Pozostale np. serwerowe IBM - rozwija powerPC, kiedys w macach np. byly, a drugim jest Spark. Sun - Java + Oracle.\n",
    "\n",
    "Kompilowanie - przypisanie bibliotek i przetwarzanie na kod maszynowy. \n",
    "\n",
    "### Rodzaje linkowane\n",
    "Statyczne - bierzemy bilioteke i na etapie linkowanie, kopiujemy ją do środka naszego kodu, plik .exe zawiera ją w sobie. \n",
    "\n",
    "Dynamiczne - .dll, .so (Linux) - pliki bibliotek napisanych w języku niskiego poziomu. Oznacza to, ze podczas kompilacji, czyli linkowanie polega na sprawdzeniu odpowiednich bibliotek i na ich podstawie mozna zobaczyc gdzie biblioteki beda wyszukiwane.   \n",
    "\n",
    "### Compilation vs interpreting\n",
    "Compile once, run anytime. Kwestia wydajności, \n",
    "\n",
    "### Java both compiled and interpreted\n",
    "Java bytecode .class (kod wykonywalny), ktory mozemy przenosic miedzy innymi urzadzeniami. Język Java, a środiwsko wirtualne Javy to co innego. Just-in-time compiler, mocno rozwinięty. Kompiluje w trakcie interpretacji od razu do postaci kodu maszynowego. Pozwoila on nawet w kilku przypadkach sprawic, ze kod w Javie będzie szybszy niż kod w C. \n",
    "\n",
    "Proceduralny - kolekcja wszystkich stanów, zmienne itd. \n",
    "\n",
    "Funkcyjny - nie wykorzystuje się stanu, (jakby nie bylo zmiennych), np. nie wykoszytuje zmiennych globalnych. \n",
    "\n",
    "OOP - blyskawiczny dostep do wykorzystania isteniejacych bibliotek. \n",
    "\n",
    "Refleksja - możliwość odkrywania obiektów w momencie wykonania. Dostajemy obiekt i nie musimy wiedziec co to jest. Na tym obiekcie mozemy sprawdzic konstruktory, metody itp. Odkryc czym on jest bez posiadania samej struktury. \n",
    "\n",
    "Event-driven - nie w JS, ale w HTML, np eventy na stronie. Programowanie równległe, programowanie wielowątkowe. \n",
    "\n",
    "Zasda moore'a. \n",
    "\n",
    "multi-threading - doczytać a bit more.\n",
    "\n",
    "Scripting - nie są przeznaczone do dużych aplikacji, np. bash. JS nie jest typowym językiem skryptowym. \n",
    "\n",
    "crashworks.org if programming langauges were vehicles"
   ]
  },
  {
   "cell_type": "markdown",
   "metadata": {},
   "source": [
    "# Zajecia 3\n",
    "Porównanie Octave (silnik do matlaba) i Pythona. Mnożenie macierzy 10x10 to predkość była podobna, jak było 1000 x 1000, to  Python był 2x szybszy. Używali **numpy** \n",
    "\n",
    "## Python cross compilers\n",
    "\n",
    "### Numba\n",
    "Uses LLVM (Low level virtual machine), to compile Python to machine code. \n",
    "\n",
    "### Cython\n",
    "Jedynie zmiana rozszerzenia i dodanie pliku, a uzyskał prędkość większą prawie 2x. Z\n",
    "\n",
    "#### Moduły Pythona\n",
    "On ma obudowa Pythone, ale cały kod jest skompilowanym kodem w C. Modul to odpowiednik pliku, moze byc w postaci funkcji, czy tez klasy. Caly moduł moze użyć, aby skompilować do C. Dlatego są szybkie, bo ich implementacje są natywne (napisane w C). \n",
    "\n",
    "Skompilowany kod w C musi być dla każdego osobnego innego systemu operacyjnego. Udostępniająć coś w postaci binarnej, musimy uważac na to, ze ktos moze miec stare dystrybujce systemow operacyjnych. Sare linuxy sa calkiem stabilne. **MenuLinux2010** - kontener \n",
    "\n",
    "## Docker\n",
    "Peudowirtualizacja. Najlżejsza wirtulizacja wykorzstywana przez Dockera, jak Linux w linuxie. Ma całe swoje osobne środowisko. Np. mozna go użyc, ze odpalasz jakis stary projekt i tam kminisz. W tym wypadku docker na bazie starego ubuntu. MenuLinux, dziala na CentOS6 (RedHat), \n",
    "\n",
    "Pełna wirtualizacja - mogę odpalić np. na linuxie starego macOSa. Windows w linuxie\n",
    "\n",
    "Parawirtualizacja - \n",
    "\n",
    "## Dystrybucje Pythona \n",
    "One są głównie po to, żeby móc używać jakich\n",
    "### venv\n",
    "Wirtualne środowisko - katalog, w którym instalujemy odpowiednia werjse Pythona z odpowiednimi paczkami dla np. pojedynczego projektu. Mamy wtedy izolowane środowisko, ktore jest niezaleze bezposrednio od pozostalych rzeczy w projekcie. Bez uzywania wirtualny srodowiska, albo moga byc na poziomie roota, lub zwyklego usera. Najlepsza opcja to tworzenie wirtualnego środowiska. Maven jest odpowiednikiem venv w Javie. \n",
    "### Cpython with PyPi - pip command\n",
    "around 150 000 packages, ogarnia całe walki z zależnościami. \n",
    "\n",
    "### Anaconda\n",
    "500 mb, gdzie zwykły Python ma 30 mb. Environment\n",
    "\n",
    "## ORM  - Object relation-mapping\n",
    "To rozwiązanie na poziomie programowania jest mało praktyczne, bo większosc języków jest obiektowa. Lepiej działać na poziomie obiektów, zamiast tabele. Lepiej mieć klase i obiekt, ktore reprezentuje wiersze w klasie. W modelu relacyjnym nie mamy dziedzicznia. \n",
    "\n",
    "## PyCharm\n",
    "Integreacja z Jupytrem. Debugger. Możemy wtedy podejrzeć stan zmiennych. Wersja professional na SGH. Albo na stronie JetBrains podajemy adres sghowy i dostaniemy licencje studencką. "
   ]
  },
  {
   "cell_type": "code",
   "execution_count": 7,
   "metadata": {},
   "outputs": [
    {
     "data": {
      "application/json": {
       "cell": {
        "!": "OSMagics",
        "HTML": "Other",
        "SVG": "Other",
        "bash": "Other",
        "capture": "ExecutionMagics",
        "debug": "ExecutionMagics",
        "file": "Other",
        "html": "DisplayMagics",
        "javascript": "DisplayMagics",
        "js": "DisplayMagics",
        "latex": "DisplayMagics",
        "markdown": "DisplayMagics",
        "perl": "Other",
        "prun": "ExecutionMagics",
        "pypy": "Other",
        "python": "Other",
        "python2": "Other",
        "python3": "Other",
        "ruby": "Other",
        "script": "ScriptMagics",
        "sh": "Other",
        "svg": "DisplayMagics",
        "sx": "OSMagics",
        "system": "OSMagics",
        "time": "ExecutionMagics",
        "timeit": "ExecutionMagics",
        "writefile": "OSMagics"
       },
       "line": {
        "alias": "OSMagics",
        "alias_magic": "BasicMagics",
        "autoawait": "AsyncMagics",
        "autocall": "AutoMagics",
        "automagic": "AutoMagics",
        "autosave": "KernelMagics",
        "bookmark": "OSMagics",
        "cat": "Other",
        "cd": "OSMagics",
        "clear": "KernelMagics",
        "colors": "BasicMagics",
        "conda": "PackagingMagics",
        "config": "ConfigMagics",
        "connect_info": "KernelMagics",
        "cp": "Other",
        "debug": "ExecutionMagics",
        "dhist": "OSMagics",
        "dirs": "OSMagics",
        "doctest_mode": "BasicMagics",
        "ed": "Other",
        "edit": "KernelMagics",
        "env": "OSMagics",
        "gui": "BasicMagics",
        "hist": "Other",
        "history": "HistoryMagics",
        "killbgscripts": "ScriptMagics",
        "ldir": "Other",
        "less": "KernelMagics",
        "lf": "Other",
        "lk": "Other",
        "ll": "Other",
        "load": "CodeMagics",
        "load_ext": "ExtensionMagics",
        "loadpy": "CodeMagics",
        "logoff": "LoggingMagics",
        "logon": "LoggingMagics",
        "logstart": "LoggingMagics",
        "logstate": "LoggingMagics",
        "logstop": "LoggingMagics",
        "ls": "Other",
        "lsmagic": "BasicMagics",
        "lx": "Other",
        "macro": "ExecutionMagics",
        "magic": "BasicMagics",
        "man": "KernelMagics",
        "matplotlib": "PylabMagics",
        "mkdir": "Other",
        "more": "KernelMagics",
        "mv": "Other",
        "notebook": "BasicMagics",
        "page": "BasicMagics",
        "pastebin": "CodeMagics",
        "pdb": "ExecutionMagics",
        "pdef": "NamespaceMagics",
        "pdoc": "NamespaceMagics",
        "pfile": "NamespaceMagics",
        "pinfo": "NamespaceMagics",
        "pinfo2": "NamespaceMagics",
        "pip": "PackagingMagics",
        "popd": "OSMagics",
        "pprint": "BasicMagics",
        "precision": "BasicMagics",
        "prun": "ExecutionMagics",
        "psearch": "NamespaceMagics",
        "psource": "NamespaceMagics",
        "pushd": "OSMagics",
        "pwd": "OSMagics",
        "pycat": "OSMagics",
        "pylab": "PylabMagics",
        "qtconsole": "KernelMagics",
        "quickref": "BasicMagics",
        "recall": "HistoryMagics",
        "rehashx": "OSMagics",
        "reload_ext": "ExtensionMagics",
        "rep": "Other",
        "rerun": "HistoryMagics",
        "reset": "NamespaceMagics",
        "reset_selective": "NamespaceMagics",
        "rm": "Other",
        "rmdir": "Other",
        "run": "ExecutionMagics",
        "save": "CodeMagics",
        "sc": "OSMagics",
        "set_env": "OSMagics",
        "store": "StoreMagics",
        "sx": "OSMagics",
        "system": "OSMagics",
        "tb": "ExecutionMagics",
        "time": "ExecutionMagics",
        "timeit": "ExecutionMagics",
        "unalias": "OSMagics",
        "unload_ext": "ExtensionMagics",
        "who": "NamespaceMagics",
        "who_ls": "NamespaceMagics",
        "whos": "NamespaceMagics",
        "xdel": "NamespaceMagics",
        "xmode": "BasicMagics"
       }
      },
      "text/plain": [
       "Available line magics:\n",
       "%alias  %alias_magic  %autoawait  %autocall  %automagic  %autosave  %bookmark  %cat  %cd  %clear  %colors  %conda  %config  %connect_info  %cp  %debug  %dhist  %dirs  %doctest_mode  %ed  %edit  %env  %gui  %hist  %history  %killbgscripts  %ldir  %less  %lf  %lk  %ll  %load  %load_ext  %loadpy  %logoff  %logon  %logstart  %logstate  %logstop  %ls  %lsmagic  %lx  %macro  %magic  %man  %matplotlib  %mkdir  %more  %mv  %notebook  %page  %pastebin  %pdb  %pdef  %pdoc  %pfile  %pinfo  %pinfo2  %pip  %popd  %pprint  %precision  %prun  %psearch  %psource  %pushd  %pwd  %pycat  %pylab  %qtconsole  %quickref  %recall  %rehashx  %reload_ext  %rep  %rerun  %reset  %reset_selective  %rm  %rmdir  %run  %save  %sc  %set_env  %store  %sx  %system  %tb  %time  %timeit  %unalias  %unload_ext  %who  %who_ls  %whos  %xdel  %xmode\n",
       "\n",
       "Available cell magics:\n",
       "%%!  %%HTML  %%SVG  %%bash  %%capture  %%debug  %%file  %%html  %%javascript  %%js  %%latex  %%markdown  %%perl  %%prun  %%pypy  %%python  %%python2  %%python3  %%ruby  %%script  %%sh  %%svg  %%sx  %%system  %%time  %%timeit  %%writefile\n",
       "\n",
       "Automagic is ON, % prefix IS NOT needed for line magics."
      ]
     },
     "execution_count": 7,
     "metadata": {},
     "output_type": "execute_result"
    }
   ],
   "source": [
    "lsmagic"
   ]
  },
  {
   "cell_type": "code",
   "execution_count": 8,
   "metadata": {},
   "outputs": [
    {
     "name": "stdout",
     "output_type": "stream",
     "text": [
      "Using matplotlib backend: Qt5Agg\n"
     ]
    }
   ],
   "source": [
    "# wrzuca inline zdjęcia w HTMLU\n",
    "%matplotlib"
   ]
  },
  {
   "cell_type": "code",
   "execution_count": 11,
   "metadata": {},
   "outputs": [
    {
     "name": "stdout",
     "output_type": "stream",
     "text": [
      "Hello\n",
      "\n",
      "World\t\n"
     ]
    }
   ],
   "source": [
    "print(\"Hello\\n\")\n",
    "print('World\\t')"
   ]
  },
  {
   "cell_type": "markdown",
   "metadata": {},
   "source": [
    "Raw poniżej wywala całe formatowanie i zostaje tylko tekst."
   ]
  },
  {
   "cell_type": "code",
   "execution_count": 12,
   "metadata": {},
   "outputs": [
    {
     "name": "stdout",
     "output_type": "stream",
     "text": [
      "Helo\"\\\\n\n"
     ]
    }
   ],
   "source": [
    "print(r'Helo\"\\\\n')"
   ]
  },
  {
   "cell_type": "markdown",
   "metadata": {},
   "source": [
    "### Typowanie\n",
    "Wszystkie typy są obietkowe, są niedeklarowalne. Duck-typing nie próbuje robić automatycznej konwersji, jak raz użyliśmy a=5, to już jest integerem do końca. Klasyczne języki, C, C++, Java mają x rodzajów typów zmienncyh, dla int, zmiennoprzecinkowych. "
   ]
  },
  {
   "cell_type": "code",
   "execution_count": 13,
   "metadata": {},
   "outputs": [
    {
     "data": {
      "text/plain": [
       "5"
      ]
     },
     "execution_count": 13,
     "metadata": {},
     "output_type": "execute_result"
    }
   ],
   "source": [
    "a = 5\n",
    "a"
   ]
  },
  {
   "cell_type": "markdown",
   "metadata": {},
   "source": [
    "Problem uncertainty quantification"
   ]
  },
  {
   "cell_type": "code",
   "execution_count": 16,
   "metadata": {},
   "outputs": [
    {
     "data": {
      "text/plain": [
       "4.123123213213213"
      ]
     },
     "execution_count": 16,
     "metadata": {},
     "output_type": "execute_result"
    }
   ],
   "source": [
    "b = 4.123123213213213123213213213213\n",
    "b"
   ]
  },
  {
   "cell_type": "code",
   "execution_count": 17,
   "metadata": {},
   "outputs": [
    {
     "name": "stdout",
     "output_type": "stream",
     "text": [
      "43\n"
     ]
    }
   ],
   "source": [
    "print(0b101011)"
   ]
  },
  {
   "cell_type": "markdown",
   "metadata": {},
   "source": [
    "subnet mask - ilość np. 255.255.0.0 - 255 determinuje liczbe zer i jedynek. "
   ]
  },
  {
   "cell_type": "markdown",
   "metadata": {},
   "source": [
    "xor - czesto na operacjach binarnych. Albo jedno, albo drugie. XOR ma pierwszeństwo przed andem."
   ]
  },
  {
   "cell_type": "code",
   "execution_count": 20,
   "metadata": {},
   "outputs": [
    {
     "data": {
      "text/plain": [
       "False"
      ]
     },
     "execution_count": 20,
     "metadata": {},
     "output_type": "execute_result"
    }
   ],
   "source": [
    "p = True\n",
    "q = True\n",
    "r = p ^ q \n",
    "r"
   ]
  },
  {
   "cell_type": "code",
   "execution_count": 26,
   "metadata": {},
   "outputs": [
    {
     "name": "stdout",
     "output_type": "stream",
     "text": [
      "0\n",
      "1\n",
      "2\n",
      "4\n",
      "\n",
      "5\n"
     ]
    }
   ],
   "source": [
    "for i in range(7):\n",
    "    if i == 3:\n",
    "        continue\n",
    "    if i == 5:\n",
    "        break\n",
    "    print(i)\n",
    "\n",
    "print()\n",
    "print(i)\n",
    "    "
   ]
  },
  {
   "cell_type": "code",
   "execution_count": 31,
   "metadata": {},
   "outputs": [
    {
     "name": "stdout",
     "output_type": "stream",
     "text": [
      "25\n",
      "26\n",
      "100\n"
     ]
    }
   ],
   "source": [
    "def add(a, b=10):\n",
    "    y = 20\n",
    "    return a+y\n",
    "\n",
    "\n",
    "y = 100\n",
    "print(add(5,7))\n",
    "print(add(6))\n",
    "print(y)"
   ]
  },
  {
   "cell_type": "code",
   "execution_count": null,
   "metadata": {},
   "outputs": [],
   "source": [
    "Scope "
   ]
  },
  {
   "cell_type": "markdown",
   "metadata": {},
   "source": [
    "# Zajecia"
   ]
  },
  {
   "cell_type": "markdown",
   "metadata": {},
   "source": [
    "## Listy, tablice"
   ]
  },
  {
   "cell_type": "code",
   "execution_count": 6,
   "metadata": {},
   "outputs": [
    {
     "name": "stdout",
     "output_type": "stream",
     "text": [
      "[1, 2, 3, 4]\n",
      "[2, 3]\n",
      "4\n",
      "[1, 2, 3, 4, 5]\n",
      "[1, 2, 3, 4, 5, 6, 7]\n"
     ]
    }
   ],
   "source": [
    "x = [1,2,3,4]\n",
    "print(x)\n",
    "print(x[1:3])\n",
    "print(x[-1])\n",
    "x.append(5)\n",
    "print(x)\n",
    "x.extend([6,7])\n",
    "print(x)"
   ]
  },
  {
   "cell_type": "code",
   "execution_count": 7,
   "metadata": {},
   "outputs": [
    {
     "name": "stdout",
     "output_type": "stream",
     "text": [
      "1\n",
      "2\n",
      "3\n",
      "4\n",
      "5\n",
      "6\n",
      "7\n"
     ]
    }
   ],
   "source": [
    "for i in x:\n",
    "    print(i)"
   ]
  },
  {
   "cell_type": "code",
   "execution_count": 8,
   "metadata": {},
   "outputs": [
    {
     "data": {
      "text/plain": [
       "[56, 87, 567]"
      ]
     },
     "execution_count": 8,
     "metadata": {},
     "output_type": "execute_result"
    }
   ],
   "source": [
    "y = [56, 567, 87]\n",
    "y.sort()\n",
    "y"
   ]
  },
  {
   "cell_type": "code",
   "execution_count": 9,
   "metadata": {},
   "outputs": [
    {
     "data": {
      "text/plain": [
       "[567, 87, 56]"
      ]
     },
     "execution_count": 9,
     "metadata": {},
     "output_type": "execute_result"
    }
   ],
   "source": [
    "y.sort(reverse=True)\n",
    "y"
   ]
  },
  {
   "cell_type": "code",
   "execution_count": 10,
   "metadata": {},
   "outputs": [
    {
     "data": {
      "text/plain": [
       "[567, 87, 56, [33, 55, 36]]"
      ]
     },
     "execution_count": 10,
     "metadata": {},
     "output_type": "execute_result"
    }
   ],
   "source": [
    "y.append([33,55,36])\n",
    "y"
   ]
  },
  {
   "cell_type": "code",
   "execution_count": 14,
   "metadata": {},
   "outputs": [
    {
     "name": "stdout",
     "output_type": "stream",
     "text": [
      "36\n"
     ]
    }
   ],
   "source": [
    "print(y[3][2])"
   ]
  },
  {
   "cell_type": "markdown",
   "metadata": {},
   "source": [
    "## Tuple\n",
    "Immutable, not possible to extend."
   ]
  },
  {
   "cell_type": "code",
   "execution_count": 13,
   "metadata": {},
   "outputs": [
    {
     "name": "stdout",
     "output_type": "stream",
     "text": [
      "(1, 4, 5)\n",
      "1\n",
      "4\n",
      "5\n"
     ]
    }
   ],
   "source": [
    "k = (1, 4, 5)\n",
    "print(k)\n",
    "for i in k:\n",
    "    print(i)"
   ]
  },
  {
   "cell_type": "code",
   "execution_count": 15,
   "metadata": {},
   "outputs": [
    {
     "name": "stdout",
     "output_type": "stream",
     "text": [
      "60\n",
      "500\n"
     ]
    }
   ],
   "source": [
    "(age, income) = \"60,500\".split(\",\")\n",
    "print(age)\n",
    "print(income)"
   ]
  },
  {
   "cell_type": "markdown",
   "metadata": {},
   "source": [
    "## Sets\n",
    "Tylko unikalne wartości i nie ma ustalonej kolejności."
   ]
  },
  {
   "cell_type": "code",
   "execution_count": 17,
   "metadata": {},
   "outputs": [
    {
     "name": "stdout",
     "output_type": "stream",
     "text": [
      "{8, 3, 4, 6}\n",
      "{3, 4, 5, 6, 8}\n"
     ]
    }
   ],
   "source": [
    "a = {3, 4, 6, 8}\n",
    "print(a)\n",
    "a.add(5)\n",
    "print(a)"
   ]
  },
  {
   "cell_type": "markdown",
   "metadata": {},
   "source": [
    "## Dictionaries"
   ]
  },
  {
   "cell_type": "code",
   "execution_count": 19,
   "metadata": {},
   "outputs": [
    {
     "data": {
      "text/plain": [
       "{'k1': 'val1', 'k2': 'val2'}"
      ]
     },
     "execution_count": 19,
     "metadata": {},
     "output_type": "execute_result"
    }
   ],
   "source": [
    "d = {\"k1\": 'val1', \"k2\":'val2'}\n",
    "d"
   ]
  },
  {
   "cell_type": "code",
   "execution_count": 24,
   "metadata": {},
   "outputs": [
    {
     "name": "stdout",
     "output_type": "stream",
     "text": [
      "k1=val1\n",
      "k2=val2\n"
     ]
    }
   ],
   "source": [
    "for i in d.keys():\n",
    "    print(i + \"=\" + d[i])"
   ]
  },
  {
   "cell_type": "code",
   "execution_count": 25,
   "metadata": {},
   "outputs": [
    {
     "name": "stdout",
     "output_type": "stream",
     "text": [
      "val1\n"
     ]
    }
   ],
   "source": [
    "print(d.get('k1'))"
   ]
  },
  {
   "cell_type": "code",
   "execution_count": 26,
   "metadata": {},
   "outputs": [
    {
     "name": "stdout",
     "output_type": "stream",
     "text": [
      "val1\n"
     ]
    }
   ],
   "source": [
    "print(d['k1'])"
   ]
  },
  {
   "cell_type": "markdown",
   "metadata": {},
   "source": [
    "## Praca z plikami"
   ]
  },
  {
   "cell_type": "code",
   "execution_count": 27,
   "metadata": {},
   "outputs": [],
   "source": [
    "f = 'out.txt'\n",
    "with open(f, 'w') as out_file:\n",
    "    out_file.write(\"Pierwsza linia\\n\")\n",
    "    out_file.write(\"Druga linia\")"
   ]
  },
  {
   "cell_type": "code",
   "execution_count": 36,
   "metadata": {},
   "outputs": [
    {
     "name": "stdout",
     "output_type": "stream",
     "text": [
      "Pierwsza linia\n",
      "\n",
      "Druga linia\n"
     ]
    }
   ],
   "source": [
    "f='out.txt'\n",
    "with open(f, 'r') as in_file:\n",
    "    plik = in_file.readlines()\n",
    "    for i in plik:\n",
    "        print(i)"
   ]
  },
  {
   "cell_type": "markdown",
   "metadata": {},
   "source": [
    "### Pliki otwarte\n",
    "XML, JSON, CSV\n",
    "### Pliki zamkniete\n",
    "Na przyklad zapis binarny, do odczytu w konkretnym oprogramowaniu. Need to use reverse engineering to revere the code. Zaleta jest to, że zajmuje mniej miejsca. "
   ]
  },
  {
   "cell_type": "code",
   "execution_count": 37,
   "metadata": {},
   "outputs": [],
   "source": [
    "import _pickle\n",
    "f = 'out.bin'\n",
    "with open(f, 'wb') as outfile:\n",
    "    _pickle.dump(d, outfile)"
   ]
  },
  {
   "cell_type": "code",
   "execution_count": 38,
   "metadata": {},
   "outputs": [
    {
     "name": "stdout",
     "output_type": "stream",
     "text": [
      "{'k1': 'val1', 'k2': 'val2'}\n"
     ]
    }
   ],
   "source": [
    "with open(f, 'rb') as infile:\n",
    "    out_d = _pickle.load(infile)\n",
    "print(out_d)"
   ]
  },
  {
   "cell_type": "markdown",
   "metadata": {},
   "source": [
    "### Roznice miedzy unixem, a windowsem\n",
    "Unix inaczej jej rozpoznaje, patrzy na naglowek pliku. Mozna uzyc komendy \"file\". Na UNIXIE nie ma dyskow, organizacja plikow jest inaczej zorganizowana. W windowsie praktycznie kazde urzadzenie ma osobny dysk, kazdy jest niezalnym drzewem katalogow i plików. Linux nie patrzy na wielkosc liter."
   ]
  },
  {
   "cell_type": "code",
   "execution_count": 39,
   "metadata": {},
   "outputs": [
    {
     "name": "stdout",
     "output_type": "stream",
     "text": [
      "/home/uizuk/EDU/Python/SGH\n"
     ]
    }
   ],
   "source": [
    "import os\n",
    "print(os.getcwd())"
   ]
  },
  {
   "cell_type": "code",
   "execution_count": 48,
   "metadata": {},
   "outputs": [
    {
     "name": "stdout",
     "output_type": "stream",
     "text": [
      "['SGH.ipynb', 'elo.txt', 'python_31_10.ipynb', 'pracka2.py', 'read.py', 'out.bin', 'out.txt', 'python_07_11.ipynb', 'elo.txt.save', '.ipynb_checkpoints']\n",
      "True\n",
      "False\n",
      "True\n",
      "False\n",
      "True\n",
      "False\n",
      "True\n",
      "False\n",
      "True\n",
      "False\n",
      "True\n",
      "False\n",
      "True\n",
      "False\n",
      "True\n",
      "False\n",
      "True\n",
      "False\n",
      "False\n",
      "True\n"
     ]
    }
   ],
   "source": [
    "dir = '/home/uizuk/EDU/Python/SGH/'\n",
    "pliki = os.listdir(dir)\n",
    "print(pliki)\n",
    "for i in pliki:\n",
    "    sciezka = os.path.join(dir, i)\n",
    "    print(os.path.isfile(sciezka))\n",
    "    print(os.path.isdir(sciezka))"
   ]
  },
  {
   "cell_type": "code",
   "execution_count": 1,
   "metadata": {},
   "outputs": [
    {
     "name": "stdout",
     "output_type": "stream",
     "text": [
      "\n",
      "Word: Czy\n",
      "Occurrences: 1\n",
      "\n",
      "Word: państwo\n",
      "Occurrences: 1\n",
      "\n",
      "Word: będzie\n",
      "Occurrences: 2\n",
      "\n",
      "Word: mogło\n",
      "Occurrences: 1\n",
      "\n",
      "Word: szpiegować\n",
      "Occurrences: 1\n",
      "\n",
      "Word: pasażerów\n",
      "Occurrences: 1\n",
      "\n",
      "Word: taksówek?\n",
      "Occurrences: 1\n",
      "\n",
      "Word: Pytanie\n",
      "Occurrences: 1\n",
      "\n",
      "Word: jest\n",
      "Occurrences: 4\n",
      "\n",
      "Word: zasadne,\n",
      "Occurrences: 1\n",
      "\n",
      "Word: bo\n",
      "Occurrences: 1\n",
      "\n",
      "Word: Ministerstwo\n",
      "Occurrences: 3\n",
      "\n",
      "Word: Cyfryzacji\n",
      "Occurrences: 1\n",
      "\n",
      "Word: przygotowuje\n",
      "Occurrences: 1\n",
      "\n",
      "Word: rozporządzenie\n",
      "Occurrences: 3\n",
      "\n",
      "Word: zakładające\n",
      "Occurrences: 1\n",
      "\n",
      "Word: zbieranie\n",
      "Occurrences: 1\n",
      "\n",
      "Word: danych\n",
      "Occurrences: 8\n",
      "\n",
      "Word: o\n",
      "Occurrences: 13\n",
      "\n",
      "Word: pasażerach\n",
      "Occurrences: 2\n",
      "\n",
      "Word: i\n",
      "Occurrences: 12\n",
      "\n",
      "Word: innych\n",
      "Occurrences: 1\n",
      "\n",
      "Word: informacji\n",
      "Occurrences: 1\n",
      "\n",
      "Word: usługach\n",
      "Occurrences: 1\n",
      "\n",
      "Word: przewozu\n",
      "Occurrences: 1\n",
      "\n",
      "Word: osób.\n",
      "Occurrences: 1\n",
      "\n",
      "Word: Dotyczy\n",
      "Occurrences: 1\n",
      "\n",
      "Word: to\n",
      "Occurrences: 5\n",
      "\n",
      "Word: kursów\n",
      "Occurrences: 1\n",
      "\n",
      "Word: zamawianych\n",
      "Occurrences: 1\n",
      "\n",
      "Word: przez\n",
      "Occurrences: 6\n",
      "\n",
      "Word: aplikacje\n",
      "Occurrences: 1\n",
      "\n",
      "Word: na\n",
      "Occurrences: 14\n",
      "\n",
      "Word: smartfony.\n",
      "Occurrences: 1\n",
      "\n",
      "Word: Reportaż\n",
      "Occurrences: 1\n",
      "\n",
      "Word: tym\n",
      "Occurrences: 1\n",
      "\n",
      "Word: w\n",
      "Occurrences: 17\n",
      "\n",
      "Word: \"Czarno\n",
      "Occurrences: 4\n",
      "\n",
      "Word: białym\"\n",
      "Occurrences: 3\n",
      "\n",
      "Word: TVN24\n",
      "Occurrences: 1\n",
      "\n",
      "Word: godzinie\n",
      "Occurrences: 1\n",
      "\n",
      "Word: 20.30.\n",
      "Occurrences: 1\n",
      "\n",
      "Word: Rozmówcy\n",
      "Occurrences: 1\n",
      "\n",
      "Word: reportera\n",
      "Occurrences: 1\n",
      "\n",
      "Word: Białym\"\n",
      "Occurrences: 1\n",
      "\n",
      "Word: Leszka\n",
      "Occurrences: 1\n",
      "\n",
      "Word: Dawidowicza,\n",
      "Occurrences: 1\n",
      "\n",
      "Word: prawnicy\n",
      "Occurrences: 1\n",
      "\n",
      "Word: oraz\n",
      "Occurrences: 4\n",
      "\n",
      "Word: znawcy\n",
      "Occurrences: 1\n",
      "\n",
      "Word: służb\n",
      "Occurrences: 1\n",
      "\n",
      "Word: specjalnych\n",
      "Occurrences: 1\n",
      "\n",
      "Word: są\n",
      "Occurrences: 3\n",
      "\n",
      "Word: zgodni:\n",
      "Occurrences: 1\n",
      "\n",
      "Word: takie\n",
      "Occurrences: 1\n",
      "\n",
      "Word: prawo\n",
      "Occurrences: 2\n",
      "\n",
      "Word: skarb\n",
      "Occurrences: 1\n",
      "\n",
      "Word: dla\n",
      "Occurrences: 2\n",
      "\n",
      "Word: służb,\n",
      "Occurrences: 2\n",
      "\n",
      "Word: które\n",
      "Occurrences: 3\n",
      "\n",
      "Word: mogłyby\n",
      "Occurrences: 1\n",
      "\n",
      "Word: chcieć\n",
      "Occurrences: 1\n",
      "\n",
      "Word: zbierać\n",
      "Occurrences: 2\n",
      "\n",
      "Word: haki\n",
      "Occurrences: 1\n",
      "\n",
      "Word: ludzi.\n",
      "Occurrences: 1\n",
      "\n",
      "Word: Jednocześnie\n",
      "Occurrences: 1\n",
      "\n",
      "Word: niebezpieczna\n",
      "Occurrences: 1\n",
      "\n",
      "Word: broń\n",
      "Occurrences: 1\n",
      "\n",
      "Word: wymierzona\n",
      "Occurrences: 1\n",
      "\n",
      "Word: obywateli.\n",
      "Occurrences: 1\n",
      "\n",
      "Word: Chodzi\n",
      "Occurrences: 1\n",
      "\n",
      "Word: zwane\n",
      "Occurrences: 1\n",
      "\n",
      "Word: \"lex\n",
      "Occurrences: 2\n",
      "\n",
      "Word: uber\".\n",
      "Occurrences: 1\n",
      "\n",
      "Word: Zrównuje\n",
      "Occurrences: 1\n",
      "\n",
      "Word: ono\n",
      "Occurrences: 1\n",
      "\n",
      "Word: usługi\n",
      "Occurrences: 2\n",
      "\n",
      "Word: taksówkarskie\n",
      "Occurrences: 1\n",
      "\n",
      "Word: przewozy\n",
      "Occurrences: 1\n",
      "\n",
      "Word: osób\n",
      "Occurrences: 1\n",
      "\n",
      "Word: samochodami\n",
      "Occurrences: 1\n",
      "\n",
      "Word: zamawiane\n",
      "Occurrences: 1\n",
      "\n",
      "Word: aplikacje.\n",
      "Occurrences: 1\n",
      "\n",
      "Word: Od\n",
      "Occurrences: 2\n",
      "\n",
      "Word: nowego\n",
      "Occurrences: 1\n",
      "\n",
      "Word: roku\n",
      "Occurrences: 1\n",
      "\n",
      "Word: taksówki\n",
      "Occurrences: 1\n",
      "\n",
      "Word: również\n",
      "Occurrences: 4\n",
      "\n",
      "Word: będą\n",
      "Occurrences: 2\n",
      "\n",
      "Word: mogły\n",
      "Occurrences: 1\n",
      "\n",
      "Word: jeździć\n",
      "Occurrences: 1\n",
      "\n",
      "Word: \"na\n",
      "Occurrences: 2\n",
      "\n",
      "Word: aplikacje\".\n",
      "Occurrences: 1\n",
      "\n",
      "Word: Natomiast\n",
      "Occurrences: 1\n",
      "\n",
      "Word: przewoźnicy\n",
      "Occurrences: 1\n",
      "\n",
      "Word: nie\n",
      "Occurrences: 5\n",
      "\n",
      "Word: będący\n",
      "Occurrences: 1\n",
      "\n",
      "Word: dziś\n",
      "Occurrences: 1\n",
      "\n",
      "Word: taksówkarzami,\n",
      "Occurrences: 1\n",
      "\n",
      "Word: musieli\n",
      "Occurrences: 1\n",
      "\n",
      "Word: wyrobić\n",
      "Occurrences: 1\n",
      "\n",
      "Word: sobie\n",
      "Occurrences: 1\n",
      "\n",
      "Word: licencje\n",
      "Occurrences: 1\n",
      "\n",
      "Word: taksówkarskie.\n",
      "Occurrences: 1\n",
      "\n",
      "Word: Prawo\n",
      "Occurrences: 1\n",
      "\n",
      "Word: uber\"\n",
      "Occurrences: 1\n",
      "\n",
      "Word: ustawa,\n",
      "Occurrences: 1\n",
      "\n",
      "Word: która\n",
      "Occurrences: 1\n",
      "\n",
      "Word: gotowa\n",
      "Occurrences: 1\n",
      "\n",
      "Word: czeka\n",
      "Occurrences: 1\n",
      "\n",
      "Word: wejście\n",
      "Occurrences: 1\n",
      "\n",
      "Word: życie.\n",
      "Occurrences: 2\n",
      "\n",
      "Word: To\n",
      "Occurrences: 1\n",
      "\n",
      "Word: \"w\n",
      "Occurrences: 1\n",
      "\n",
      "Word: sprawie\n",
      "Occurrences: 1\n",
      "\n",
      "Word: aplikacji\n",
      "Occurrences: 3\n",
      "\n",
      "Word: mobilnej\n",
      "Occurrences: 2\n",
      "\n",
      "Word: służącej\n",
      "Occurrences: 1\n",
      "\n",
      "Word: do\n",
      "Occurrences: 6\n",
      "\n",
      "Word: rozliczania\n",
      "Occurrences: 1\n",
      "\n",
      "Word: opłaty\n",
      "Occurrences: 1\n",
      "\n",
      "Word: za\n",
      "Occurrences: 1\n",
      "\n",
      "Word: przewóz\n",
      "Occurrences: 1\n",
      "\n",
      "Word: osób\".\n",
      "Occurrences: 1\n",
      "\n",
      "Word: Ono\n",
      "Occurrences: 1\n",
      "\n",
      "Word: weszło\n",
      "Occurrences: 1\n",
      "\n",
      "Word: jeszcze\n",
      "Occurrences: 1\n",
      "\n",
      "Word: Przygotowuje\n",
      "Occurrences: 1\n",
      "\n",
      "Word: je\n",
      "Occurrences: 1\n",
      "\n",
      "Word: Cyfryzacji.\n",
      "Occurrences: 2\n",
      "\n",
      "Word: Projekt\n",
      "Occurrences: 1\n",
      "\n",
      "Word: już\n",
      "Occurrences: 1\n",
      "\n",
      "Word: po\n",
      "Occurrences: 3\n",
      "\n",
      "Word: konsultacjach\n",
      "Occurrences: 1\n",
      "\n",
      "Word: społecznych\n",
      "Occurrences: 1\n",
      "\n",
      "Word: częściowo\n",
      "Occurrences: 1\n",
      "\n",
      "Word: uzgodnieniach\n",
      "Occurrences: 1\n",
      "\n",
      "Word: międzyresortowych.\n",
      "Occurrences: 1\n",
      "\n",
      "Word: Krytyka\n",
      "Occurrences: 1\n",
      "\n",
      "Word: wewnątrz\n",
      "Occurrences: 2\n",
      "\n",
      "Word: rządu\n",
      "Occurrences: 2\n",
      "\n",
      "Word: Z\n",
      "Occurrences: 2\n",
      "\n",
      "Word: dokumentów\n",
      "Occurrences: 1\n",
      "\n",
      "Word: Rządowego\n",
      "Occurrences: 2\n",
      "\n",
      "Word: Centrum\n",
      "Occurrences: 2\n",
      "\n",
      "Word: Legislacji\n",
      "Occurrences: 1\n",
      "\n",
      "Word: wynika,\n",
      "Occurrences: 1\n",
      "\n",
      "Word: że\n",
      "Occurrences: 5\n",
      "\n",
      "Word: ramach\n",
      "Occurrences: 2\n",
      "\n",
      "Word: konsultacji\n",
      "Occurrences: 1\n",
      "\n",
      "Word: temat\n",
      "Occurrences: 1\n",
      "\n",
      "Word: rozporządzenia\n",
      "Occurrences: 1\n",
      "\n",
      "Word: wypowiedziały\n",
      "Occurrences: 1\n",
      "\n",
      "Word: się\n",
      "Occurrences: 4\n",
      "\n",
      "Word: zrzeszenia\n",
      "Occurrences: 1\n",
      "\n",
      "Word: taksówkarzy\n",
      "Occurrences: 1\n",
      "\n",
      "Word: organizacje\n",
      "Occurrences: 1\n",
      "\n",
      "Word: pracodawców.\n",
      "Occurrences: 1\n",
      "\n",
      "Word: Brak\n",
      "Occurrences: 1\n",
      "\n",
      "Word: opinii\n",
      "Occurrences: 1\n",
      "\n",
      "Word: organizacji\n",
      "Occurrences: 1\n",
      "\n",
      "Word: broniących\n",
      "Occurrences: 1\n",
      "\n",
      "Word: wolności\n",
      "Occurrences: 2\n",
      "\n",
      "Word: obywatelskich.\n",
      "Occurrences: 1\n",
      "\n",
      "Word: Słabe\n",
      "Occurrences: 1\n",
      "\n",
      "Word: wyniki\n",
      "Occurrences: 1\n",
      "\n",
      "Word: Ubera.\n",
      "Occurrences: 1\n",
      "\n",
      "Word: Akcje\n",
      "Occurrences: 2\n",
      "\n",
      "Word: mocno\n",
      "Occurrences: 1\n",
      "\n",
      "Word: dół\n",
      "Occurrences: 1\n",
      "\n",
      "Word: firmy...czytaj\n",
      "Occurrences: 1\n",
      "\n",
      "Word: dalej\n",
      "Occurrences: 2\n",
      "\n",
      "Word: »\n",
      "Occurrences: 2\n",
      "\n",
      "Word: kolei\n",
      "Occurrences: 1\n",
      "\n",
      "Word: etapie\n",
      "Occurrences: 1\n",
      "\n",
      "Word: opiniowania\n",
      "Occurrences: 1\n",
      "\n",
      "Word: resorty\n",
      "Occurrences: 1\n",
      "\n",
      "Word: pomysł,\n",
      "Occurrences: 1\n",
      "\n",
      "Word: aby\n",
      "Occurrences: 1\n",
      "\n",
      "Word: aplikacja\n",
      "Occurrences: 2\n",
      "\n",
      "Word: szpiegowała\n",
      "Occurrences: 1\n",
      "\n",
      "Word: pasażerów,\n",
      "Occurrences: 1\n",
      "\n",
      "Word: skrytykowało\n",
      "Occurrences: 1\n",
      "\n",
      "Word: dwóch\n",
      "Occurrences: 1\n",
      "\n",
      "Word: wysokich\n",
      "Occurrences: 1\n",
      "\n",
      "Word: urzędników\n",
      "Occurrences: 1\n",
      "\n",
      "Word: państwowych\n",
      "Occurrences: 1\n",
      "\n",
      "Word: -\n",
      "Occurrences: 6\n",
      "\n",
      "Word: wiceminister\n",
      "Occurrences: 1\n",
      "\n",
      "Word: cyfryzacji\n",
      "Occurrences: 1\n",
      "\n",
      "Word: prezes\n",
      "Occurrences: 1\n",
      "\n",
      "Word: Urzędu\n",
      "Occurrences: 1\n",
      "\n",
      "Word: Ochrony\n",
      "Occurrences: 1\n",
      "\n",
      "Word: Danych\n",
      "Occurrences: 1\n",
      "\n",
      "Word: Osobowych.\n",
      "Occurrences: 1\n",
      "\n",
      "Word: Aplikacje\n",
      "Occurrences: 1\n",
      "\n",
      "Word: zamawiania\n",
      "Occurrences: 2\n",
      "\n",
      "Word: taksówek\n",
      "Occurrences: 2\n",
      "\n",
      "Word: mogą\n",
      "Occurrences: 1\n",
      "\n",
      "Word: mieć\n",
      "Occurrences: 3\n",
      "\n",
      "Word: wiele\n",
      "Occurrences: 1\n",
      "\n",
      "Word: różnych\n",
      "Occurrences: 1\n",
      "\n",
      "Word: funkcji.\n",
      "Occurrences: 1\n",
      "\n",
      "Word: Państwo\n",
      "Occurrences: 1\n",
      "\n",
      "Word: określa\n",
      "Occurrences: 1\n",
      "\n",
      "Word: natomiast,\n",
      "Occurrences: 1\n",
      "\n",
      "Word: funkcje\n",
      "Occurrences: 1\n",
      "\n",
      "Word: muszą.\n",
      "Occurrences: 1\n",
      "\n",
      "Word: Jak\n",
      "Occurrences: 1\n",
      "\n",
      "Word: napisano\n",
      "Occurrences: 1\n",
      "\n",
      "Word: projekcie,\n",
      "Occurrences: 1\n",
      "\n",
      "Word: określa:\n",
      "Occurrences: 1\n",
      "\n",
      "Word: ::\n",
      "Occurrences: 5\n",
      "\n",
      "Word: \"minimalne\n",
      "Occurrences: 1\n",
      "\n",
      "Word: wymagania\n",
      "Occurrences: 1\n",
      "\n",
      "Word: funkcjonalne\"\n",
      "Occurrences: 1\n",
      "\n",
      "Word: \"sposób\n",
      "Occurrences: 1\n",
      "\n",
      "Word: zabezpieczania\n",
      "Occurrences: 1\n",
      "\n",
      "Word: gromadzonych\n",
      "Occurrences: 1\n",
      "\n",
      "Word: aplikację\n",
      "Occurrences: 1\n",
      "\n",
      "Word: mobilną\n",
      "Occurrences: 1\n",
      "\n",
      "Word: system\n",
      "Occurrences: 1\n",
      "\n",
      "Word: teleinformatyczny\".\n",
      "Occurrences: 1\n",
      "\n",
      "Word: W\n",
      "Occurrences: 1\n",
      "\n",
      "Word: tych\n",
      "Occurrences: 1\n",
      "\n",
      "Word: \"minimalnych\n",
      "Occurrences: 1\n",
      "\n",
      "Word: wymagań\n",
      "Occurrences: 1\n",
      "\n",
      "Word: funkcjonalnych\"\n",
      "Occurrences: 1\n",
      "\n",
      "Word: ma:\n",
      "Occurrences: 1\n",
      "\n",
      "Word: zapisywać,\n",
      "Occurrences: 2\n",
      "\n",
      "Word: kto,\n",
      "Occurrences: 1\n",
      "\n",
      "Word: skąd,\n",
      "Occurrences: 1\n",
      "\n",
      "Word: dokąd\n",
      "Occurrences: 1\n",
      "\n",
      "Word: kiedy\n",
      "Occurrences: 1\n",
      "\n",
      "Word: jechał\n",
      "Occurrences: 1\n",
      "\n",
      "Word: [w\n",
      "Occurrences: 3\n",
      "\n",
      "Word: projekcie\n",
      "Occurrences: 3\n",
      "\n",
      "Word: rozporządzenia:\n",
      "Occurrences: 3\n",
      "\n",
      "Word: \"zapewnia\n",
      "Occurrences: 4\n",
      "\n",
      "Word: możliwość\n",
      "Occurrences: 4\n",
      "\n",
      "Word: (...)\n",
      "Occurrences: 7\n",
      "\n",
      "Word: rejestracji\n",
      "Occurrences: 3\n",
      "\n",
      "Word: pozwalających\n",
      "Occurrences: 1\n",
      "\n",
      "Word: identyfikację\n",
      "Occurrences: 1\n",
      "\n",
      "Word: klienta\n",
      "Occurrences: 2\n",
      "\n",
      "Word: przypadku\n",
      "Occurrences: 1\n",
      "\n",
      "Word: korzystania\n",
      "Occurrences: 1\n",
      "\n",
      "Word: z\n",
      "Occurrences: 6\n",
      "\n",
      "Word: mobilnej\";\n",
      "Occurrences: 1\n",
      "\n",
      "Word: realizowanej\n",
      "Occurrences: 2\n",
      "\n",
      "Word: usłudze\n",
      "Occurrences: 2\n",
      "\n",
      "Word: przewozowej,\n",
      "Occurrences: 2\n",
      "\n",
      "Word: dotyczących\n",
      "Occurrences: 3\n",
      "\n",
      "Word: lokalizacji\n",
      "Occurrences: 1\n",
      "\n",
      "Word: startowej\n",
      "Occurrences: 1\n",
      "\n",
      "Word: docelowej\n",
      "Occurrences: 1\n",
      "\n",
      "Word: przewozu,\n",
      "Occurrences: 1\n",
      "\n",
      "Word: czasu\n",
      "Occurrences: 1\n",
      "\n",
      "Word: rozpoczęcia\n",
      "Occurrences: 1\n",
      "\n",
      "Word: trwania\n",
      "Occurrences: 1\n",
      "\n",
      "Word: przewozu\"];\n",
      "Occurrences: 1\n",
      "\n",
      "Word: pasażer\n",
      "Occurrences: 2\n",
      "\n",
      "Word: przykład\n",
      "Occurrences: 2\n",
      "\n",
      "Word: pokłócił\n",
      "Occurrences: 1\n",
      "\n",
      "Word: kierowcą\n",
      "Occurrences: 1\n",
      "\n",
      "Word: sprawach\n",
      "Occurrences: 1\n",
      "\n",
      "Word: politycznych,\n",
      "Occurrences: 1\n",
      "\n",
      "Word: kierowca\n",
      "Occurrences: 1\n",
      "\n",
      "Word: nerwach\n",
      "Occurrences: 1\n",
      "\n",
      "Word: zatrzymał\n",
      "Occurrences: 1\n",
      "\n",
      "Word: samochód;\n",
      "Occurrences: 1\n",
      "\n",
      "Word: albo\n",
      "Occurrences: 1\n",
      "\n",
      "Word: zanieczyścił\n",
      "Occurrences: 1\n",
      "\n",
      "Word: samochód\n",
      "Occurrences: 1\n",
      "\n",
      "Word: trzeba\n",
      "Occurrences: 1\n",
      "\n",
      "Word: było\n",
      "Occurrences: 1\n",
      "\n",
      "Word: go\n",
      "Occurrences: 1\n",
      "\n",
      "Word: wyprosić\n",
      "Occurrences: 1\n",
      "\n",
      "Word: wozu\n",
      "Occurrences: 1\n",
      "\n",
      "Word: incydentów,\n",
      "Occurrences: 1\n",
      "\n",
      "Word: uniemożliwiły\n",
      "Occurrences: 1\n",
      "\n",
      "Word: realizację\n",
      "Occurrences: 1\n",
      "\n",
      "Word: przewozowej\n",
      "Occurrences: 1\n",
      "\n",
      "Word: części\n",
      "Occurrences: 1\n",
      "\n",
      "Word: lub\n",
      "Occurrences: 1\n",
      "\n",
      "Word: całości\"];\n",
      "Occurrences: 1\n",
      "\n",
      "Word: dane\n",
      "Occurrences: 4\n",
      "\n",
      "Word: wszystkich\n",
      "Occurrences: 1\n",
      "\n",
      "Word: przewozach\n",
      "Occurrences: 1\n",
      "\n",
      "Word: aplikacje\"\n",
      "Occurrences: 1\n",
      "\n",
      "Word: gromadzenia\n",
      "Occurrences: 1\n",
      "\n",
      "Word: usług\n",
      "Occurrences: 3\n",
      "\n",
      "Word: przewozowych\"].\n",
      "Occurrences: 1\n",
      "\n",
      "Word: Pytania\n",
      "Occurrences: 2\n",
      "\n",
      "Word: gromadzenie\n",
      "Occurrences: 1\n",
      "\n",
      "Word: analizowanie\n",
      "Occurrences: 1\n",
      "\n",
      "Word: Koniec\n",
      "Occurrences: 1\n",
      "\n",
      "Word: fake\n",
      "Occurrences: 1\n",
      "\n",
      "Word: newsów\n",
      "Occurrences: 1\n",
      "\n",
      "Word: czy\n",
      "Occurrences: 1\n",
      "\n",
      "Word: koniec\n",
      "Occurrences: 1\n",
      "\n",
      "Word: internecie.\n",
      "Occurrences: 1\n",
      "\n",
      "Word: rządowy\n",
      "Occurrences: 1\n",
      "\n",
      "Word: projekt\n",
      "Occurrences: 3\n",
      "\n",
      "Word: Mnożą\n",
      "Occurrences: 1\n",
      "\n",
      "Word: obawy\n",
      "Occurrences: 1\n",
      "\n",
      "Word: i...czytaj\n",
      "Occurrences: 1\n",
      "\n",
      "Word: Po\n",
      "Occurrences: 1\n",
      "\n",
      "Word: co\n",
      "Occurrences: 1\n",
      "\n",
      "Word: zbierane\n",
      "Occurrences: 1\n",
      "\n",
      "Word: te\n",
      "Occurrences: 2\n",
      "\n",
      "Word: wiadomo.\n",
      "Occurrences: 2\n",
      "\n",
      "Word: Reporter\n",
      "Occurrences: 2\n",
      "\n",
      "Word: Leszek\n",
      "Occurrences: 1\n",
      "\n",
      "Word: Dawidowicz\n",
      "Occurrences: 1\n",
      "\n",
      "Word: zapytał\n",
      "Occurrences: 1\n",
      "\n",
      "Word: urzędnika\n",
      "Occurrences: 1\n",
      "\n",
      "Word: Ministerstwa\n",
      "Occurrences: 1\n",
      "\n",
      "Word: Kto\n",
      "Occurrences: 1\n",
      "\n",
      "Word: analizował\n",
      "Occurrences: 1\n",
      "\n",
      "Word: Wiadomo\n",
      "Occurrences: 1\n",
      "\n",
      "Word: jednak,\n",
      "Occurrences: 1\n",
      "\n",
      "Word: kto\n",
      "Occurrences: 1\n",
      "\n",
      "Word: ma\n",
      "Occurrences: 1\n",
      "\n",
      "Word: tego\n",
      "Occurrences: 1\n",
      "\n",
      "Word: prawo.\n",
      "Occurrences: 1\n",
      "\n",
      "Word: \"Dane\n",
      "Occurrences: 1\n",
      "\n",
      "Word: dotyczące\n",
      "Occurrences: 1\n",
      "\n",
      "Word: przewozowych\n",
      "Occurrences: 1\n",
      "\n",
      "Word: przetwarzane\n",
      "Occurrences: 1\n",
      "\n",
      "Word: sposób\n",
      "Occurrences: 1\n",
      "\n",
      "Word: zapewniający\n",
      "Occurrences: 1\n",
      "\n",
      "Word: kontrolowany\n",
      "Occurrences: 1\n",
      "\n",
      "Word: dostęp\n",
      "Occurrences: 1\n",
      "\n",
      "Word: metadanych,\n",
      "Occurrences: 1\n",
      "\n",
      "Word: udzielany\n",
      "Occurrences: 1\n",
      "\n",
      "Word: osobom\n",
      "Occurrences: 1\n",
      "\n",
      "Word: ustalonej\n",
      "Occurrences: 1\n",
      "\n",
      "Word: tożsamości,\n",
      "Occurrences: 1\n",
      "\n",
      "Word: zgodnie\n",
      "Occurrences: 1\n",
      "\n",
      "Word: uprawnieniami,\n",
      "Occurrences: 1\n",
      "\n",
      "Word: przydzielonymi\n",
      "Occurrences: 1\n",
      "\n",
      "Word: odpowiednio\n",
      "Occurrences: 1\n",
      "\n",
      "Word: zakresu\n",
      "Occurrences: 1\n",
      "\n",
      "Word: udziału\n",
      "Occurrences: 1\n",
      "\n",
      "Word: realizacji\n",
      "Occurrences: 1\n",
      "\n",
      "Word: świadczonych\n",
      "Occurrences: 1\n",
      "\n",
      "Word: przewozowych\"\n",
      "Occurrences: 1\n",
      "\n",
      "Word: głosi\n",
      "Occurrences: 1\n",
      "\n",
      "Word: rozporządzenia.\n",
      "Occurrences: 1\n",
      "\n",
      "Word: Zdaniem\n",
      "Occurrences: 1\n",
      "\n",
      "Word: rozmówców\n",
      "Occurrences: 1\n",
      "\n",
      "Word: Dawidowicza\n",
      "Occurrences: 1\n",
      "\n",
      "Word: tak\n",
      "Occurrences: 2\n",
      "\n",
      "Word: nieostro\n",
      "Occurrences: 1\n",
      "\n",
      "Word: sformułowany\n",
      "Occurrences: 1\n",
      "\n",
      "Word: przepis\n",
      "Occurrences: 1\n",
      "\n",
      "Word: pozwoli\n",
      "Occurrences: 1\n",
      "\n",
      "Word: sięgnięcie\n",
      "Occurrences: 1\n",
      "\n",
      "Word: urzędnikom\n",
      "Occurrences: 1\n",
      "\n",
      "Word: wielu\n",
      "Occurrences: 1\n",
      "\n",
      "Word: zarówno\n",
      "Occurrences: 1\n",
      "\n",
      "Word: mundurowych,\n",
      "Occurrences: 1\n",
      "\n",
      "Word: jak\n",
      "Occurrences: 1\n",
      "\n",
      "Word: cywilnych.\n",
      "Occurrences: 1\n",
      "\n",
      "Word: został\n",
      "Occurrences: 1\n",
      "\n",
      "Word: zapewniony\n",
      "Occurrences: 1\n",
      "\n",
      "Word: Cyfryzacji,\n",
      "Occurrences: 1\n",
      "\n",
      "Word: skrytykowany\n",
      "Occurrences: 1\n",
      "\n",
      "Word: zostanie\n",
      "Occurrences: 1\n",
      "\n",
      "Word: zmieniony.\n",
      "Occurrences: 1\n",
      "\n",
      "Word: tamtego\n",
      "Occurrences: 1\n",
      "\n",
      "Word: zapewnienia\n",
      "Occurrences: 1\n",
      "\n",
      "Word: minęły\n",
      "Occurrences: 1\n",
      "\n",
      "Word: dwa\n",
      "Occurrences: 1\n",
      "\n",
      "Word: tygodnie.\n",
      "Occurrences: 1\n",
      "\n",
      "Word: Tymczasem\n",
      "Occurrences: 1\n",
      "\n",
      "Word: stronach\n",
      "Occurrences: 1\n",
      "\n",
      "Word: Legislacji,\n",
      "Occurrences: 1\n",
      "\n",
      "Word: gdzie\n",
      "Occurrences: 1\n",
      "\n",
      "Word: dokumentowany\n",
      "Occurrences: 1\n",
      "\n",
      "Word: proces\n",
      "Occurrences: 1\n",
      "\n",
      "Word: zmian\n",
      "Occurrences: 1\n",
      "\n",
      "Word: prawie,\n",
      "Occurrences: 1\n",
      "\n",
      "Word: nic\n",
      "Occurrences: 2\n",
      "\n",
      "Word: zmieniło.\n",
      "Occurrences: 1\n",
      "\n",
      "Word: nic?\n",
      "Occurrences: 2\n",
      "\n",
      "Word: ?\n",
      "Occurrences: 1\n"
     ]
    }
   ],
   "source": [
    "d = {}\n",
    "f = \"elo.txt\"\n",
    "file = open(f, \"r\")\n",
    "\n",
    "for str in file.read().split():\n",
    "    if not(str in d):\n",
    "        d[str] = 1\n",
    "    else:\n",
    "        num = d[str] + 1\n",
    "        d.update({str: num})\n",
    "\n",
    "for key, value in d.items():\n",
    "        print(f\"\\nWord: {key}\")\n",
    "        print(f\"Occurrences: {value}\")"
   ]
  },
  {
   "cell_type": "code",
   "execution_count": 23,
   "metadata": {},
   "outputs": [
    {
     "name": "stdout",
     "output_type": "stream",
     "text": [
      "\n",
      "Słowo: w\n",
      "Liczba wystąpień: 18\n",
      "\n",
      "Słowo: na\n",
      "Liczba wystąpień: 14\n",
      "\n",
      "Słowo: o\n",
      "Liczba wystąpień: 13\n",
      "\n",
      "Słowo: i\n",
      "Liczba wystąpień: 12\n",
      "\n",
      "Słowo: danych\n",
      "Liczba wystąpień: 9\n",
      "\n",
      "Słowo:  \n",
      "Liczba wystąpień: 9\n",
      "\n",
      "Słowo: z\n",
      "Liczba wystąpień: 8\n",
      "\n",
      "Słowo:      \n",
      "Liczba wystąpień: 7\n",
      "\n",
      "Słowo: to\n",
      "Liczba wystąpień: 6\n",
      "\n",
      "Słowo: przez\n",
      "Liczba wystąpień: 6\n",
      "\n",
      "Słowo: do\n",
      "Liczba wystąpień: 6\n",
      "\n",
      "Słowo: nie\n",
      "Liczba wystąpień: 5\n",
      "\n",
      "Słowo: że\n",
      "Liczba wystąpień: 5\n",
      "\n",
      "Słowo:   \n",
      "Liczba wystąpień: 5\n",
      "\n",
      "Słowo: jest\n",
      "Liczba wystąpień: 4\n",
      "\n",
      "Słowo:  czarno\n",
      "Liczba wystąpień: 4\n",
      "\n",
      "Słowo: białym \n",
      "Liczba wystąpień: 4\n",
      "\n",
      "Słowo: oraz\n",
      "Liczba wystąpień: 4\n",
      "\n",
      "Słowo: również\n",
      "Liczba wystąpień: 4\n",
      "\n",
      "Słowo:  w\n",
      "Liczba wystąpień: 4\n",
      "\n",
      "Słowo: projekt\n",
      "Liczba wystąpień: 4\n",
      "\n",
      "Słowo: po\n",
      "Liczba wystąpień: 4\n",
      "\n",
      "Słowo: się\n",
      "Liczba wystąpień: 4\n",
      "\n",
      "Słowo: rozporządzenia \n",
      "Liczba wystąpień: 4\n",
      "\n",
      "Słowo:  zapewnia\n",
      "Liczba wystąpień: 4\n",
      "\n",
      "Słowo: możliwość\n",
      "Liczba wystąpień: 4\n",
      "\n",
      "Słowo: dane\n",
      "Liczba wystąpień: 4\n",
      "\n",
      "Słowo: ministerstwo\n",
      "Liczba wystąpień: 3\n",
      "\n",
      "Słowo: rozporządzenie\n",
      "Liczba wystąpień: 3\n",
      "\n",
      "Słowo: są\n",
      "Liczba wystąpień: 3\n",
      "\n",
      "Słowo: prawo\n",
      "Liczba wystąpień: 3\n",
      "\n",
      "Słowo: które\n",
      "Liczba wystąpień: 3\n",
      "\n",
      "Słowo: aplikacji\n",
      "Liczba wystąpień: 3\n",
      "\n",
      "Słowo: cyfryzacji \n",
      "Liczba wystąpień: 3\n",
      "\n",
      "Słowo: mieć\n",
      "Liczba wystąpień: 3\n",
      "\n",
      "Słowo: projekcie\n",
      "Liczba wystąpień: 3\n",
      "\n",
      "Słowo: rejestracji\n",
      "Liczba wystąpień: 3\n",
      "\n",
      "Słowo: dotyczących\n",
      "Liczba wystąpień: 3\n",
      "\n",
      "Słowo: usług\n",
      "Liczba wystąpień: 3\n",
      "\n",
      "Słowo: czy\n",
      "Liczba wystąpień: 2\n",
      "\n",
      "Słowo: państwo\n",
      "Liczba wystąpień: 2\n",
      "\n",
      "Słowo: będzie\n",
      "Liczba wystąpień: 2\n",
      "\n",
      "Słowo: cyfryzacji\n",
      "Liczba wystąpień: 2\n",
      "\n",
      "Słowo: przygotowuje\n",
      "Liczba wystąpień: 2\n",
      "\n",
      "Słowo: pasażerach\n",
      "Liczba wystąpień: 2\n",
      "\n",
      "Słowo: aplikacje\n",
      "Liczba wystąpień: 2\n",
      "\n",
      "Słowo: dla\n",
      "Liczba wystąpień: 2\n",
      "\n",
      "Słowo: służb \n",
      "Liczba wystąpień: 2\n",
      "\n",
      "Słowo: zbierać\n",
      "Liczba wystąpień: 2\n",
      "\n",
      "Słowo:  lex\n",
      "Liczba wystąpień: 2\n",
      "\n",
      "Słowo: ono\n",
      "Liczba wystąpień: 2\n",
      "\n",
      "Słowo: usługi\n",
      "Liczba wystąpień: 2\n",
      "\n",
      "Słowo: aplikacje \n",
      "Liczba wystąpień: 2\n",
      "\n",
      "Słowo: od\n",
      "Liczba wystąpień: 2\n",
      "\n",
      "Słowo: będą\n",
      "Liczba wystąpień: 2\n",
      "\n",
      "Słowo:  na\n",
      "Liczba wystąpień: 2\n",
      "\n",
      "Słowo: życie \n",
      "Liczba wystąpień: 2\n",
      "\n",
      "Słowo: mobilnej\n",
      "Liczba wystąpień: 2\n",
      "\n",
      "Słowo: wewnątrz\n",
      "Liczba wystąpień: 2\n",
      "\n",
      "Słowo: rządu\n",
      "Liczba wystąpień: 2\n",
      "\n",
      "Słowo: rządowego\n",
      "Liczba wystąpień: 2\n",
      "\n",
      "Słowo: centrum\n",
      "Liczba wystąpień: 2\n",
      "\n",
      "Słowo: ramach\n",
      "Liczba wystąpień: 2\n",
      "\n",
      "Słowo: wolności\n",
      "Liczba wystąpień: 2\n",
      "\n",
      "Słowo: akcje\n",
      "Liczba wystąpień: 2\n",
      "\n",
      "Słowo: dalej\n",
      "Liczba wystąpień: 2\n",
      "\n",
      "Słowo: aplikacja\n",
      "Liczba wystąpień: 2\n",
      "\n",
      "Słowo: zamawiania\n",
      "Liczba wystąpień: 2\n",
      "\n",
      "Słowo: taksówek\n",
      "Liczba wystąpień: 2\n",
      "\n",
      "Słowo: jak\n",
      "Liczba wystąpień: 2\n",
      "\n",
      "Słowo: zapisywać \n",
      "Liczba wystąpień: 2\n",
      "\n",
      "Słowo: klienta\n",
      "Liczba wystąpień: 2\n",
      "\n",
      "Słowo: realizowanej\n",
      "Liczba wystąpień: 2\n",
      "\n",
      "Słowo: usłudze\n",
      "Liczba wystąpień: 2\n",
      "\n",
      "Słowo: przewozowej \n",
      "Liczba wystąpień: 2\n",
      "\n",
      "Słowo: pasażer\n",
      "Liczba wystąpień: 2\n",
      "\n",
      "Słowo: przykład\n",
      "Liczba wystąpień: 2\n",
      "\n",
      "Słowo: pytania\n",
      "Liczba wystąpień: 2\n",
      "\n",
      "Słowo: koniec\n",
      "Liczba wystąpień: 2\n",
      "\n",
      "Słowo: te\n",
      "Liczba wystąpień: 2\n",
      "\n",
      "Słowo: wiadomo \n",
      "Liczba wystąpień: 2\n",
      "\n",
      "Słowo: reporter\n",
      "Liczba wystąpień: 2\n",
      "\n",
      "Słowo: kto\n",
      "Liczba wystąpień: 2\n",
      "\n",
      "Słowo: tak\n",
      "Liczba wystąpień: 2\n",
      "\n",
      "Słowo: nic\n",
      "Liczba wystąpień: 2\n",
      "\n",
      "Słowo: nic \n",
      "Liczba wystąpień: 2\n",
      "\n",
      "Słowo: mogło\n",
      "Liczba wystąpień: 1\n",
      "\n",
      "Słowo: szpiegować\n",
      "Liczba wystąpień: 1\n",
      "\n",
      "Słowo: pasażerów\n",
      "Liczba wystąpień: 1\n",
      "\n",
      "Słowo: taksówek \n",
      "Liczba wystąpień: 1\n",
      "\n",
      "Słowo: pytanie\n",
      "Liczba wystąpień: 1\n",
      "\n",
      "Słowo: zasadne \n",
      "Liczba wystąpień: 1\n",
      "\n",
      "Słowo: bo\n",
      "Liczba wystąpień: 1\n",
      "\n",
      "Słowo: zakładające\n",
      "Liczba wystąpień: 1\n",
      "\n",
      "Słowo: zbieranie\n",
      "Liczba wystąpień: 1\n",
      "\n",
      "Słowo: innych\n",
      "Liczba wystąpień: 1\n",
      "\n",
      "Słowo: informacji\n",
      "Liczba wystąpień: 1\n",
      "\n",
      "Słowo: usługach\n",
      "Liczba wystąpień: 1\n",
      "\n",
      "Słowo: przewozu\n",
      "Liczba wystąpień: 1\n",
      "\n",
      "Słowo: osób \n",
      "Liczba wystąpień: 1\n",
      "\n",
      "Słowo: dotyczy\n",
      "Liczba wystąpień: 1\n",
      "\n",
      "Słowo: kursów\n",
      "Liczba wystąpień: 1\n",
      "\n",
      "Słowo: zamawianych\n",
      "Liczba wystąpień: 1\n",
      "\n",
      "Słowo: smartfony \n",
      "Liczba wystąpień: 1\n",
      "\n",
      "Słowo: reportaż\n",
      "Liczba wystąpień: 1\n",
      "\n",
      "Słowo: tym\n",
      "Liczba wystąpień: 1\n",
      "\n",
      "Słowo: tvn24\n",
      "Liczba wystąpień: 1\n",
      "\n",
      "Słowo: godzinie\n",
      "Liczba wystąpień: 1\n",
      "\n",
      "Słowo: 20 30 \n",
      "Liczba wystąpień: 1\n",
      "\n",
      "Słowo: rozmówcy\n",
      "Liczba wystąpień: 1\n",
      "\n",
      "Słowo: reportera\n",
      "Liczba wystąpień: 1\n",
      "\n",
      "Słowo: leszka\n",
      "Liczba wystąpień: 1\n",
      "\n",
      "Słowo: dawidowicza \n",
      "Liczba wystąpień: 1\n",
      "\n",
      "Słowo: prawnicy\n",
      "Liczba wystąpień: 1\n",
      "\n",
      "Słowo: znawcy\n",
      "Liczba wystąpień: 1\n",
      "\n",
      "Słowo: służb\n",
      "Liczba wystąpień: 1\n",
      "\n",
      "Słowo: specjalnych\n",
      "Liczba wystąpień: 1\n",
      "\n",
      "Słowo: zgodni \n",
      "Liczba wystąpień: 1\n",
      "\n",
      "Słowo: takie\n",
      "Liczba wystąpień: 1\n",
      "\n",
      "Słowo: skarb\n",
      "Liczba wystąpień: 1\n",
      "\n",
      "Słowo: mogłyby\n",
      "Liczba wystąpień: 1\n",
      "\n",
      "Słowo: chcieć\n",
      "Liczba wystąpień: 1\n",
      "\n",
      "Słowo: haki\n",
      "Liczba wystąpień: 1\n",
      "\n",
      "Słowo: ludzi \n",
      "Liczba wystąpień: 1\n",
      "\n",
      "Słowo: jednocześnie\n",
      "Liczba wystąpień: 1\n",
      "\n",
      "Słowo: niebezpieczna\n",
      "Liczba wystąpień: 1\n",
      "\n",
      "Słowo: broń\n",
      "Liczba wystąpień: 1\n",
      "\n",
      "Słowo: wymierzona\n",
      "Liczba wystąpień: 1\n",
      "\n",
      "Słowo: obywateli \n",
      "Liczba wystąpień: 1\n",
      "\n",
      "Słowo: chodzi\n",
      "Liczba wystąpień: 1\n",
      "\n",
      "Słowo: zwane\n",
      "Liczba wystąpień: 1\n",
      "\n",
      "Słowo: uber  \n",
      "Liczba wystąpień: 1\n",
      "\n",
      "Słowo: zrównuje\n",
      "Liczba wystąpień: 1\n",
      "\n",
      "Słowo: taksówkarskie\n",
      "Liczba wystąpień: 1\n",
      "\n",
      "Słowo: przewozy\n",
      "Liczba wystąpień: 1\n",
      "\n",
      "Słowo: osób\n",
      "Liczba wystąpień: 1\n",
      "\n",
      "Słowo: samochodami\n",
      "Liczba wystąpień: 1\n",
      "\n",
      "Słowo: zamawiane\n",
      "Liczba wystąpień: 1\n",
      "\n",
      "Słowo: nowego\n",
      "Liczba wystąpień: 1\n",
      "\n",
      "Słowo: roku\n",
      "Liczba wystąpień: 1\n",
      "\n",
      "Słowo: taksówki\n",
      "Liczba wystąpień: 1\n",
      "\n",
      "Słowo: mogły\n",
      "Liczba wystąpień: 1\n",
      "\n",
      "Słowo: jeździć\n",
      "Liczba wystąpień: 1\n",
      "\n",
      "Słowo: aplikacje  \n",
      "Liczba wystąpień: 1\n",
      "\n",
      "Słowo: natomiast\n",
      "Liczba wystąpień: 1\n",
      "\n",
      "Słowo: przewoźnicy\n",
      "Liczba wystąpień: 1\n",
      "\n",
      "Słowo: będący\n",
      "Liczba wystąpień: 1\n",
      "\n",
      "Słowo: dziś\n",
      "Liczba wystąpień: 1\n",
      "\n",
      "Słowo: taksówkarzami \n",
      "Liczba wystąpień: 1\n",
      "\n",
      "Słowo: musieli\n",
      "Liczba wystąpień: 1\n",
      "\n",
      "Słowo: wyrobić\n",
      "Liczba wystąpień: 1\n",
      "\n",
      "Słowo: sobie\n",
      "Liczba wystąpień: 1\n",
      "\n",
      "Słowo: licencje\n",
      "Liczba wystąpień: 1\n",
      "\n",
      "Słowo: taksówkarskie \n",
      "Liczba wystąpień: 1\n",
      "\n",
      "Słowo: uber \n",
      "Liczba wystąpień: 1\n",
      "\n",
      "Słowo: ustawa \n",
      "Liczba wystąpień: 1\n",
      "\n",
      "Słowo: która\n",
      "Liczba wystąpień: 1\n",
      "\n",
      "Słowo: gotowa\n",
      "Liczba wystąpień: 1\n",
      "\n",
      "Słowo: czeka\n",
      "Liczba wystąpień: 1\n",
      "\n",
      "Słowo: wejście\n",
      "Liczba wystąpień: 1\n",
      "\n",
      "Słowo: sprawie\n",
      "Liczba wystąpień: 1\n",
      "\n",
      "Słowo: służącej\n",
      "Liczba wystąpień: 1\n",
      "\n",
      "Słowo: rozliczania\n",
      "Liczba wystąpień: 1\n",
      "\n",
      "Słowo: opłaty\n",
      "Liczba wystąpień: 1\n",
      "\n",
      "Słowo: za\n",
      "Liczba wystąpień: 1\n",
      "\n",
      "Słowo: przewóz\n",
      "Liczba wystąpień: 1\n",
      "\n",
      "Słowo: osób  \n",
      "Liczba wystąpień: 1\n",
      "\n",
      "Słowo: weszło\n",
      "Liczba wystąpień: 1\n",
      "\n",
      "Słowo: jeszcze\n",
      "Liczba wystąpień: 1\n",
      "\n",
      "Słowo: je\n",
      "Liczba wystąpień: 1\n",
      "\n",
      "Słowo: już\n",
      "Liczba wystąpień: 1\n",
      "\n",
      "Słowo: konsultacjach\n",
      "Liczba wystąpień: 1\n",
      "\n",
      "Słowo: społecznych\n",
      "Liczba wystąpień: 1\n",
      "\n",
      "Słowo: częściowo\n",
      "Liczba wystąpień: 1\n",
      "\n",
      "Słowo: uzgodnieniach\n",
      "Liczba wystąpień: 1\n",
      "\n",
      "Słowo: międzyresortowych \n",
      "Liczba wystąpień: 1\n",
      "\n",
      "Słowo: krytyka\n",
      "Liczba wystąpień: 1\n",
      "\n",
      "Słowo: dokumentów\n",
      "Liczba wystąpień: 1\n",
      "\n",
      "Słowo: legislacji\n",
      "Liczba wystąpień: 1\n",
      "\n",
      "Słowo: wynika \n",
      "Liczba wystąpień: 1\n",
      "\n",
      "Słowo: konsultacji\n",
      "Liczba wystąpień: 1\n",
      "\n",
      "Słowo: temat\n",
      "Liczba wystąpień: 1\n",
      "\n",
      "Słowo: rozporządzenia\n",
      "Liczba wystąpień: 1\n",
      "\n",
      "Słowo: wypowiedziały\n",
      "Liczba wystąpień: 1\n",
      "\n",
      "Słowo: zrzeszenia\n",
      "Liczba wystąpień: 1\n",
      "\n",
      "Słowo: taksówkarzy\n",
      "Liczba wystąpień: 1\n",
      "\n",
      "Słowo: organizacje\n",
      "Liczba wystąpień: 1\n",
      "\n",
      "Słowo: pracodawców \n",
      "Liczba wystąpień: 1\n",
      "\n",
      "Słowo: brak\n",
      "Liczba wystąpień: 1\n",
      "\n",
      "Słowo: opinii\n",
      "Liczba wystąpień: 1\n",
      "\n",
      "Słowo: organizacji\n",
      "Liczba wystąpień: 1\n",
      "\n",
      "Słowo: broniących\n",
      "Liczba wystąpień: 1\n",
      "\n",
      "Słowo: obywatelskich \n",
      "Liczba wystąpień: 1\n",
      "\n",
      "Słowo: słabe\n",
      "Liczba wystąpień: 1\n",
      "\n",
      "Słowo: wyniki\n",
      "Liczba wystąpień: 1\n",
      "\n",
      "Słowo: ubera \n",
      "Liczba wystąpień: 1\n",
      "\n",
      "Słowo: mocno\n",
      "Liczba wystąpień: 1\n",
      "\n",
      "Słowo: dół\n",
      "Liczba wystąpień: 1\n",
      "\n",
      "Słowo: firmy   czytaj\n",
      "Liczba wystąpień: 1\n",
      "\n",
      "Słowo: kolei\n",
      "Liczba wystąpień: 1\n",
      "\n",
      "Słowo: etapie\n",
      "Liczba wystąpień: 1\n",
      "\n",
      "Słowo: opiniowania\n",
      "Liczba wystąpień: 1\n",
      "\n",
      "Słowo: resorty\n",
      "Liczba wystąpień: 1\n",
      "\n",
      "Słowo: pomysł \n",
      "Liczba wystąpień: 1\n",
      "\n",
      "Słowo: aby\n",
      "Liczba wystąpień: 1\n",
      "\n",
      "Słowo: szpiegowała\n",
      "Liczba wystąpień: 1\n",
      "\n",
      "Słowo: pasażerów \n",
      "Liczba wystąpień: 1\n",
      "\n",
      "Słowo: skrytykowało\n",
      "Liczba wystąpień: 1\n",
      "\n",
      "Słowo: dwóch\n",
      "Liczba wystąpień: 1\n",
      "\n",
      "Słowo: wysokich\n",
      "Liczba wystąpień: 1\n",
      "\n",
      "Słowo: urzędników\n",
      "Liczba wystąpień: 1\n",
      "\n",
      "Słowo: państwowych\n",
      "Liczba wystąpień: 1\n",
      "\n",
      "Słowo: wiceminister\n",
      "Liczba wystąpień: 1\n",
      "\n",
      "Słowo: prezes\n",
      "Liczba wystąpień: 1\n",
      "\n",
      "Słowo: urzędu\n",
      "Liczba wystąpień: 1\n",
      "\n",
      "Słowo: ochrony\n",
      "Liczba wystąpień: 1\n",
      "\n",
      "Słowo: osobowych \n",
      "Liczba wystąpień: 1\n",
      "\n",
      "Słowo: mogą\n",
      "Liczba wystąpień: 1\n",
      "\n",
      "Słowo: wiele\n",
      "Liczba wystąpień: 1\n",
      "\n",
      "Słowo: różnych\n",
      "Liczba wystąpień: 1\n",
      "\n",
      "Słowo: funkcji \n",
      "Liczba wystąpień: 1\n",
      "\n",
      "Słowo: określa\n",
      "Liczba wystąpień: 1\n",
      "\n",
      "Słowo: natomiast \n",
      "Liczba wystąpień: 1\n",
      "\n",
      "Słowo: funkcje\n",
      "Liczba wystąpień: 1\n",
      "\n",
      "Słowo: muszą \n",
      "Liczba wystąpień: 1\n",
      "\n",
      "Słowo: napisano\n",
      "Liczba wystąpień: 1\n",
      "\n",
      "Słowo: projekcie \n",
      "Liczba wystąpień: 1\n",
      "\n",
      "Słowo: określa \n",
      "Liczba wystąpień: 1\n",
      "\n",
      "Słowo:  minimalne\n",
      "Liczba wystąpień: 1\n",
      "\n",
      "Słowo: wymagania\n",
      "Liczba wystąpień: 1\n",
      "\n",
      "Słowo: funkcjonalne \n",
      "Liczba wystąpień: 1\n",
      "\n",
      "Słowo:  sposób\n",
      "Liczba wystąpień: 1\n",
      "\n",
      "Słowo: zabezpieczania\n",
      "Liczba wystąpień: 1\n",
      "\n",
      "Słowo: gromadzonych\n",
      "Liczba wystąpień: 1\n",
      "\n",
      "Słowo: aplikację\n",
      "Liczba wystąpień: 1\n",
      "\n",
      "Słowo: mobilną\n",
      "Liczba wystąpień: 1\n",
      "\n",
      "Słowo: system\n",
      "Liczba wystąpień: 1\n",
      "\n",
      "Słowo: teleinformatyczny  \n",
      "Liczba wystąpień: 1\n",
      "\n",
      "Słowo: tych\n",
      "Liczba wystąpień: 1\n",
      "\n",
      "Słowo:  minimalnych\n",
      "Liczba wystąpień: 1\n",
      "\n",
      "Słowo: wymagań\n",
      "Liczba wystąpień: 1\n",
      "\n",
      "Słowo: funkcjonalnych \n",
      "Liczba wystąpień: 1\n",
      "\n",
      "Słowo: ma \n",
      "Liczba wystąpień: 1\n",
      "\n",
      "Słowo: kto \n",
      "Liczba wystąpień: 1\n",
      "\n",
      "Słowo: skąd \n",
      "Liczba wystąpień: 1\n",
      "\n",
      "Słowo: dokąd\n",
      "Liczba wystąpień: 1\n",
      "\n",
      "Słowo: kiedy\n",
      "Liczba wystąpień: 1\n",
      "\n",
      "Słowo: jechał\n",
      "Liczba wystąpień: 1\n",
      "\n",
      "Słowo: pozwalających\n",
      "Liczba wystąpień: 1\n",
      "\n",
      "Słowo: identyfikację\n",
      "Liczba wystąpień: 1\n",
      "\n",
      "Słowo: przypadku\n",
      "Liczba wystąpień: 1\n",
      "\n",
      "Słowo: korzystania\n",
      "Liczba wystąpień: 1\n",
      "\n",
      "Słowo: mobilnej  \n",
      "Liczba wystąpień: 1\n",
      "\n",
      "Słowo: lokalizacji\n",
      "Liczba wystąpień: 1\n",
      "\n",
      "Słowo: startowej\n",
      "Liczba wystąpień: 1\n",
      "\n",
      "Słowo: docelowej\n",
      "Liczba wystąpień: 1\n",
      "\n",
      "Słowo: przewozu \n",
      "Liczba wystąpień: 1\n",
      "\n",
      "Słowo: czasu\n",
      "Liczba wystąpień: 1\n",
      "\n",
      "Słowo: rozpoczęcia\n",
      "Liczba wystąpień: 1\n",
      "\n",
      "Słowo: trwania\n",
      "Liczba wystąpień: 1\n",
      "\n",
      "Słowo: przewozu   \n",
      "Liczba wystąpień: 1\n",
      "\n",
      "Słowo: pokłócił\n",
      "Liczba wystąpień: 1\n",
      "\n",
      "Słowo: kierowcą\n",
      "Liczba wystąpień: 1\n",
      "\n",
      "Słowo: sprawach\n",
      "Liczba wystąpień: 1\n",
      "\n",
      "Słowo: politycznych \n",
      "Liczba wystąpień: 1\n",
      "\n",
      "Słowo: kierowca\n",
      "Liczba wystąpień: 1\n",
      "\n",
      "Słowo: nerwach\n",
      "Liczba wystąpień: 1\n",
      "\n",
      "Słowo: zatrzymał\n",
      "Liczba wystąpień: 1\n",
      "\n",
      "Słowo: samochód \n",
      "Liczba wystąpień: 1\n",
      "\n",
      "Słowo: albo\n",
      "Liczba wystąpień: 1\n",
      "\n",
      "Słowo: zanieczyścił\n",
      "Liczba wystąpień: 1\n",
      "\n",
      "Słowo: samochód\n",
      "Liczba wystąpień: 1\n",
      "\n",
      "Słowo: trzeba\n",
      "Liczba wystąpień: 1\n",
      "\n",
      "Słowo: było\n",
      "Liczba wystąpień: 1\n",
      "\n",
      "Słowo: go\n",
      "Liczba wystąpień: 1\n",
      "\n",
      "Słowo: wyprosić\n",
      "Liczba wystąpień: 1\n",
      "\n",
      "Słowo: wozu\n",
      "Liczba wystąpień: 1\n",
      "\n",
      "Słowo: incydentów \n",
      "Liczba wystąpień: 1\n",
      "\n",
      "Słowo: uniemożliwiły\n",
      "Liczba wystąpień: 1\n",
      "\n",
      "Słowo: realizację\n",
      "Liczba wystąpień: 1\n",
      "\n",
      "Słowo: przewozowej\n",
      "Liczba wystąpień: 1\n",
      "\n",
      "Słowo: części\n",
      "Liczba wystąpień: 1\n",
      "\n",
      "Słowo: lub\n",
      "Liczba wystąpień: 1\n",
      "\n",
      "Słowo: całości   \n",
      "Liczba wystąpień: 1\n",
      "\n",
      "Słowo: wszystkich\n",
      "Liczba wystąpień: 1\n",
      "\n",
      "Słowo: przewozach\n",
      "Liczba wystąpień: 1\n",
      "\n",
      "Słowo: gromadzenia\n",
      "Liczba wystąpień: 1\n",
      "\n",
      "Słowo: przewozowych   \n",
      "Liczba wystąpień: 1\n",
      "\n",
      "Słowo: gromadzenie\n",
      "Liczba wystąpień: 1\n",
      "\n",
      "Słowo: analizowanie\n",
      "Liczba wystąpień: 1\n",
      "\n",
      "Słowo: fake\n",
      "Liczba wystąpień: 1\n",
      "\n",
      "Słowo: newsów\n",
      "Liczba wystąpień: 1\n",
      "\n",
      "Słowo: internecie \n",
      "Liczba wystąpień: 1\n",
      "\n",
      "Słowo: rządowy\n",
      "Liczba wystąpień: 1\n",
      "\n",
      "Słowo: mnożą\n",
      "Liczba wystąpień: 1\n",
      "\n",
      "Słowo: obawy\n",
      "Liczba wystąpień: 1\n",
      "\n",
      "Słowo: i   czytaj\n",
      "Liczba wystąpień: 1\n",
      "\n",
      "Słowo: co\n",
      "Liczba wystąpień: 1\n",
      "\n",
      "Słowo: zbierane\n",
      "Liczba wystąpień: 1\n",
      "\n",
      "Słowo: leszek\n",
      "Liczba wystąpień: 1\n",
      "\n",
      "Słowo: dawidowicz\n",
      "Liczba wystąpień: 1\n",
      "\n",
      "Słowo: zapytał\n",
      "Liczba wystąpień: 1\n",
      "\n",
      "Słowo: urzędnika\n",
      "Liczba wystąpień: 1\n",
      "\n",
      "Słowo: ministerstwa\n",
      "Liczba wystąpień: 1\n",
      "\n",
      "Słowo: analizował\n",
      "Liczba wystąpień: 1\n",
      "\n",
      "Słowo: wiadomo\n",
      "Liczba wystąpień: 1\n",
      "\n",
      "Słowo: jednak \n",
      "Liczba wystąpień: 1\n",
      "\n",
      "Słowo: ma\n",
      "Liczba wystąpień: 1\n",
      "\n",
      "Słowo: tego\n",
      "Liczba wystąpień: 1\n",
      "\n",
      "Słowo: prawo \n",
      "Liczba wystąpień: 1\n",
      "\n",
      "Słowo:  dane\n",
      "Liczba wystąpień: 1\n",
      "\n",
      "Słowo: dotyczące\n",
      "Liczba wystąpień: 1\n",
      "\n",
      "Słowo: przewozowych\n",
      "Liczba wystąpień: 1\n",
      "\n",
      "Słowo: przetwarzane\n",
      "Liczba wystąpień: 1\n",
      "\n",
      "Słowo: sposób\n",
      "Liczba wystąpień: 1\n",
      "\n",
      "Słowo: zapewniający\n",
      "Liczba wystąpień: 1\n",
      "\n",
      "Słowo: kontrolowany\n",
      "Liczba wystąpień: 1\n",
      "\n",
      "Słowo: dostęp\n",
      "Liczba wystąpień: 1\n",
      "\n",
      "Słowo: metadanych \n",
      "Liczba wystąpień: 1\n",
      "\n",
      "Słowo: udzielany\n",
      "Liczba wystąpień: 1\n",
      "\n",
      "Słowo: osobom\n",
      "Liczba wystąpień: 1\n",
      "\n",
      "Słowo: ustalonej\n",
      "Liczba wystąpień: 1\n",
      "\n",
      "Słowo: tożsamości \n",
      "Liczba wystąpień: 1\n",
      "\n",
      "Słowo: zgodnie\n",
      "Liczba wystąpień: 1\n",
      "\n",
      "Słowo: uprawnieniami \n",
      "Liczba wystąpień: 1\n",
      "\n",
      "Słowo: przydzielonymi\n",
      "Liczba wystąpień: 1\n",
      "\n",
      "Słowo: odpowiednio\n",
      "Liczba wystąpień: 1\n",
      "\n",
      "Słowo: zakresu\n",
      "Liczba wystąpień: 1\n",
      "\n",
      "Słowo: udziału\n",
      "Liczba wystąpień: 1\n",
      "\n",
      "Słowo: realizacji\n",
      "Liczba wystąpień: 1\n",
      "\n",
      "Słowo: świadczonych\n",
      "Liczba wystąpień: 1\n",
      "\n",
      "Słowo: przewozowych \n",
      "Liczba wystąpień: 1\n",
      "\n",
      "Słowo: głosi\n",
      "Liczba wystąpień: 1\n",
      "\n",
      "Słowo: zdaniem\n",
      "Liczba wystąpień: 1\n",
      "\n",
      "Słowo: rozmówców\n",
      "Liczba wystąpień: 1\n",
      "\n",
      "Słowo: dawidowicza\n",
      "Liczba wystąpień: 1\n",
      "\n",
      "Słowo: nieostro\n",
      "Liczba wystąpień: 1\n",
      "\n",
      "Słowo: sformułowany\n",
      "Liczba wystąpień: 1\n",
      "\n",
      "Słowo: przepis\n",
      "Liczba wystąpień: 1\n",
      "\n",
      "Słowo: pozwoli\n",
      "Liczba wystąpień: 1\n",
      "\n",
      "Słowo: sięgnięcie\n",
      "Liczba wystąpień: 1\n",
      "\n",
      "Słowo: urzędnikom\n",
      "Liczba wystąpień: 1\n",
      "\n",
      "Słowo: wielu\n",
      "Liczba wystąpień: 1\n",
      "\n",
      "Słowo: zarówno\n",
      "Liczba wystąpień: 1\n",
      "\n",
      "Słowo: mundurowych \n",
      "Liczba wystąpień: 1\n",
      "\n",
      "Słowo: cywilnych \n",
      "Liczba wystąpień: 1\n",
      "\n",
      "Słowo: został\n",
      "Liczba wystąpień: 1\n",
      "\n",
      "Słowo: zapewniony\n",
      "Liczba wystąpień: 1\n",
      "\n",
      "Słowo: skrytykowany\n",
      "Liczba wystąpień: 1\n",
      "\n",
      "Słowo: zostanie\n",
      "Liczba wystąpień: 1\n",
      "\n",
      "Słowo: zmieniony \n",
      "Liczba wystąpień: 1\n",
      "\n",
      "Słowo: tamtego\n",
      "Liczba wystąpień: 1\n",
      "\n",
      "Słowo: zapewnienia\n",
      "Liczba wystąpień: 1\n",
      "\n",
      "Słowo: minęły\n",
      "Liczba wystąpień: 1\n",
      "\n",
      "Słowo: dwa\n",
      "Liczba wystąpień: 1\n",
      "\n",
      "Słowo: tygodnie \n",
      "Liczba wystąpień: 1\n",
      "\n",
      "Słowo: tymczasem\n",
      "Liczba wystąpień: 1\n",
      "\n",
      "Słowo: stronach\n",
      "Liczba wystąpień: 1\n",
      "\n",
      "Słowo: legislacji \n",
      "Liczba wystąpień: 1\n",
      "\n",
      "Słowo: gdzie\n",
      "Liczba wystąpień: 1\n",
      "\n",
      "Słowo: dokumentowany\n",
      "Liczba wystąpień: 1\n",
      "\n",
      "Słowo: proces\n",
      "Liczba wystąpień: 1\n",
      "\n",
      "Słowo: zmian\n",
      "Liczba wystąpień: 1\n",
      "\n",
      "Słowo: prawie \n",
      "Liczba wystąpień: 1\n",
      "\n",
      "Słowo: zmieniło \n",
      "Liczba wystąpień: 1\n"
     ]
    }
   ],
   "source": [
    "import re\n",
    "d = {}\n",
    "f = \"elo.txt\"\n",
    "file = open(f, \"r\")\n",
    "\n",
    "for line in file.read().split():\n",
    "    line = line.strip().lower()\n",
    "    line = re.sub(r'[^\\w\\s+]',' ',line)\n",
    "    if not(line in d):\n",
    "        d[line] = 1\n",
    "    else:\n",
    "        num = d[line] + 1\n",
    "        d.update({line: num})\n",
    "\n",
    "for key, value in sorted(d.items(), key=lambda d: d[1], reverse=True):\n",
    "    print(f\"\\nSłowo: {key}\")\n",
    "    print(f\"Liczba wystąpień: {value}\")"
   ]
  }
 ],
 "metadata": {
  "kernelspec": {
   "display_name": "Python 3",
   "language": "python",
   "name": "python3"
  },
  "language_info": {
   "codemirror_mode": {
    "name": "ipython",
    "version": 3
   },
   "file_extension": ".py",
   "mimetype": "text/x-python",
   "name": "python",
   "nbconvert_exporter": "python",
   "pygments_lexer": "ipython3",
   "version": "3.7.3"
  },
  "toc": {
   "base_numbering": 1,
   "nav_menu": {},
   "number_sections": true,
   "sideBar": true,
   "skip_h1_title": false,
   "title_cell": "Table of Contents",
   "title_sidebar": "Contents",
   "toc_cell": false,
   "toc_position": {},
   "toc_section_display": true,
   "toc_window_display": false
  }
 },
 "nbformat": 4,
 "nbformat_minor": 2
}
